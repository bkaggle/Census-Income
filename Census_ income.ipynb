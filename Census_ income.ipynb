{
 "cells": [
  {
   "cell_type": "code",
   "execution_count": 1,
   "id": "85115c8a",
   "metadata": {},
   "outputs": [
    {
     "data": {
      "text/html": [
       "<script>\n",
       "code_show=true; \n",
       "function code_toggle() {\n",
       " if (code_show){\n",
       " $('div.input').hide();\n",
       " } else {\n",
       " $('div.input').show();\n",
       " }\n",
       " code_show = !code_show\n",
       "} \n",
       "$( document ).ready(code_toggle);\n",
       "</script>\n",
       "<form action=\"javascript:code_toggle()\"><input type=\"submit\" value=\"Click here to toggle on/off the raw code.\"></form>"
      ],
      "text/plain": [
       "<IPython.core.display.HTML object>"
      ]
     },
     "execution_count": 1,
     "metadata": {},
     "output_type": "execute_result"
    }
   ],
   "source": [
    "from IPython.display import HTML\n",
    "\n",
    "HTML('''<script>\n",
    "code_show=true; \n",
    "function code_toggle() {\n",
    " if (code_show){\n",
    " $('div.input').hide();\n",
    " } else {\n",
    " $('div.input').show();\n",
    " }\n",
    " code_show = !code_show\n",
    "} \n",
    "$( document ).ready(code_toggle);\n",
    "</script>\n",
    "<form action=\"javascript:code_toggle()\"><input type=\"submit\" value=\"Click here to toggle on/off the raw code.\"></form>''')"
   ]
  },
  {
   "cell_type": "markdown",
   "id": "55f0eb20",
   "metadata": {},
   "source": [
    "## US Census Data - Case Study"
   ]
  },
  {
   "cell_type": "markdown",
   "id": "3c079c0d",
   "metadata": {},
   "source": [
    "### Executive Summary"
   ]
  },
  {
   "cell_type": "markdown",
   "id": "dbcb7c17",
   "metadata": {},
   "source": [
    "US is one of the most diverse nations on this planet. In this work we try to analyze their population census data. The data is extracted from 1994 Census database by UCI and is publicly available. We try tackling the following questions which might be of interest for corporations or population study:\n",
    "\n",
    "What are the key factors contributing to the high or low income class?\n",
    "\n",
    "How can we find the people who would be successful investors?\n",
    "\n",
    "What is the impact of each factor on the high/low income class?\n",
    "\n",
    "Can we predict if a person had high/low income based on his / her attributes?"
   ]
  },
  {
   "cell_type": "markdown",
   "id": "bb9ae0a4",
   "metadata": {},
   "source": [
    "### Approach\n",
    "We summarize the approach for each question as follows:\n",
    "\n",
    "Feature selection using a random forest classifier to select only relevant features for our analysis. It's important to look at all the features holistically as features are dependent on each other. Through feature selection we find out what are the important features. Charts also explain the same at an individual feature level.\n",
    "\n",
    "We assume people who have a net capital gain would be good investors. We analyze how this group of people is different from rest of the population. Few features stand-out distinctly and we make note of those. Statistical tests would prove the same but can give more reliability. Our analysis is based on the central measure (mean / mode), variance and plots.\n",
    "\n",
    "The impact of each feature is measured using Logistic Regression. We use the selected features from the first question's results for building the logistic regression model. As Logistic regression gives very good accuracy comparable to the best accuracy we use it for measuring the impact of each feature. The coefficients are interpreted in terms of odd-ratio of high-income class w.r.t. low-income class.\n",
    "\n",
    "We try out different supervised learning algorithms. The model is trained on the selected features. Furthermore, we tune the model the give a good cross-validation accuracy. This model is tested on the test data and the results tabulated."
   ]
  },
  {
   "cell_type": "markdown",
   "id": "26fb5483",
   "metadata": {},
   "source": [
    "### Importing libraries and data"
   ]
  },
  {
   "cell_type": "code",
   "execution_count": 2,
   "id": "5bad5ce4",
   "metadata": {},
   "outputs": [
    {
     "name": "stderr",
     "output_type": "stream",
     "text": [
      "C:\\Users\\User\\anaconda3\\lib\\site-packages\\xgboost\\compat.py:36: FutureWarning: pandas.Int64Index is deprecated and will be removed from pandas in a future version. Use pandas.Index with the appropriate dtype instead.\n",
      "  from pandas import MultiIndex, Int64Index\n"
     ]
    }
   ],
   "source": [
    "#Importing libraries\n",
    "import pandas as pd\n",
    "import io\n",
    "import requests\n",
    "import numpy as np\n",
    "from matplotlib import pyplot as plt\n",
    "import seaborn as sns\n",
    "from scipy.stats import chi2_contingency\n",
    "from scipy.stats import chi2\n",
    "from sklearn.feature_selection import RFECV\n",
    "from sklearn.linear_model import LogisticRegression\n",
    "from sklearn.preprocessing import MinMaxScaler\n",
    "from sklearn.model_selection import cross_val_score\n",
    "from sklearn.inspection import permutation_importance\n",
    "from sklearn.ensemble import AdaBoostClassifier\n",
    "from xgboost.sklearn import XGBClassifier\n",
    "from sklearn.model_selection import StratifiedKFold\n",
    "from sklearn.svm import SVC\n",
    "from sklearn.ensemble import RandomForestClassifier\n",
    "from sklearn.tree import DecisionTreeClassifier\n",
    "from sklearn.model_selection import GridSearchCV\n",
    "import time\n",
    "from IPython.display import HTML, display\n",
    "from IPython.display import HTML, display\n",
    "#import tabulate"
   ]
  },
  {
   "cell_type": "code",
   "execution_count": 3,
   "id": "41b4cec0",
   "metadata": {},
   "outputs": [],
   "source": [
    "url=\"https://archive.ics.uci.edu/ml/machine-learning-databases/adult/adult.data\"\n",
    "content =requests.get(url).content\n",
    "columns = [\"age\", \"workingclass\", \"fnlwgt\", \"education\", \"education-num\", \"marital-status\", \"occupation\" , \"relationship\", \"race\", \"sex\", \"capital-gain\", \"capital-loss\", \"hours-per-week\", \"native-country\", \"income\"] \n",
    "adult_df=pd.read_csv(io.StringIO(content.decode('utf-8')), header = None)\n",
    "adult_df.columns = columns"
   ]
  },
  {
   "cell_type": "markdown",
   "id": "d6cb2572",
   "metadata": {},
   "source": [
    "### Exploratory data analysis & Feature engineering"
   ]
  },
  {
   "cell_type": "markdown",
   "id": "5c580656",
   "metadata": {},
   "source": [
    "Dataset information from UCI\n",
    "UCI has given information about the data and features. We need to understand it thoroughly before we do any analysis.\n",
    "\n",
    "The data is extracted from the 1994 Census database and is publicly available : US Census data\n",
    "\n",
    "Following are the attributes and their types:\n",
    "\n",
    "age: continuous\n",
    "\n",
    "workclass: categorical\n",
    "\n",
    "fnlwgt: continuous, represents the number of units the record represents in the population.\n",
    "\n",
    "education: categorical\n",
    "\n",
    "education-num: continuous\n",
    "\n",
    "marital-status: categorical\n",
    "\n",
    "occupation: categorical\n",
    "\n",
    "relationship: categorical. Values - Wife, Own-child, Husband, Not-in-family, Other-relative, Unmarried.\n",
    "\n",
    "race: categorical\n",
    "\n",
    "sex: categorical\n",
    "\n",
    "capital-gain: continuous\n",
    "\n",
    "capital-loss: continuous\n",
    "\n",
    "hours-per-week: continuous, number of work the person has worked for in a week\n",
    "\n",
    "native-country: categorical\n",
    "\n",
    "income: categorical, class (not attribute) <=50K and >50K"
   ]
  },
  {
   "cell_type": "markdown",
   "id": "704b9e2d",
   "metadata": {},
   "source": [
    "### High-level overview"
   ]
  },
  {
   "cell_type": "code",
   "execution_count": 6,
   "id": "530517fc",
   "metadata": {},
   "outputs": [
    {
     "data": {
      "text/plain": [
       "(32561, 15)"
      ]
     },
     "execution_count": 6,
     "metadata": {},
     "output_type": "execute_result"
    }
   ],
   "source": [
    "#Attribute statistics \n",
    "adult_df_shape = adult_df.shape\n",
    "adult_df_shape"
   ]
  },
  {
   "cell_type": "markdown",
   "id": "a580beb0",
   "metadata": {},
   "source": [
    "### Handling Null / Missing Values"
   ]
  },
  {
   "cell_type": "code",
   "execution_count": 7,
   "id": "7984de62",
   "metadata": {},
   "outputs": [],
   "source": [
    "#removing end blank spaces\n",
    "df_obj = adult_df.select_dtypes(['object'])\n",
    "adult_df[df_obj.columns] = df_obj.apply(lambda x: x.str.strip())"
   ]
  },
  {
   "cell_type": "markdown",
   "id": "5f55eb1a",
   "metadata": {},
   "source": [
    "There are no null values. We check for missing values in each of the variable"
   ]
  },
  {
   "cell_type": "code",
   "execution_count": 8,
   "id": "552dfd10",
   "metadata": {},
   "outputs": [
    {
     "data": {
      "text/plain": [
       "age                  0\n",
       "workingclass      1836\n",
       "fnlwgt               0\n",
       "education            0\n",
       "education-num        0\n",
       "marital-status       0\n",
       "occupation        1843\n",
       "relationship         0\n",
       "race                 0\n",
       "sex                  0\n",
       "capital-gain         0\n",
       "capital-loss         0\n",
       "hours-per-week       0\n",
       "native-country     583\n",
       "income               0\n",
       "dtype: int64"
      ]
     },
     "execution_count": 8,
     "metadata": {},
     "output_type": "execute_result"
    }
   ],
   "source": [
    "#Check for missing values in all the columns\n",
    "adult_df.isin([\"?\"]).sum()"
   ]
  },
  {
   "cell_type": "code",
   "execution_count": 9,
   "id": "898466bc",
   "metadata": {},
   "outputs": [],
   "source": [
    "#Dropping missing values\n",
    "adult_df = adult_df.loc[adult_df[\"workingclass\"] !=\"?\"]\n",
    "adult_df = adult_df.loc[adult_df[\"occupation\"] !=\"?\"]\n",
    "adult_df = adult_df.loc[adult_df[\"native-country\"] !=\"?\"]"
   ]
  },
  {
   "cell_type": "code",
   "execution_count": 10,
   "id": "ea4b02e7",
   "metadata": {},
   "outputs": [
    {
     "name": "stdout",
     "output_type": "stream",
     "text": [
      "Lost rows = 7.37%\n"
     ]
    }
   ],
   "source": [
    "print(\"Lost rows = \"+str(round(1 - (adult_df.shape[0]/32561),4)*100)+\"%\")"
   ]
  },
  {
   "cell_type": "markdown",
   "id": "422e5b2a",
   "metadata": {},
   "source": [
    "### Describe variables\n",
    "\n",
    "#### Continuous / Integer variables"
   ]
  },
  {
   "cell_type": "code",
   "execution_count": 11,
   "id": "f6358738",
   "metadata": {},
   "outputs": [
    {
     "data": {
      "text/html": [
       "<div>\n",
       "<style scoped>\n",
       "    .dataframe tbody tr th:only-of-type {\n",
       "        vertical-align: middle;\n",
       "    }\n",
       "\n",
       "    .dataframe tbody tr th {\n",
       "        vertical-align: top;\n",
       "    }\n",
       "\n",
       "    .dataframe thead th {\n",
       "        text-align: right;\n",
       "    }\n",
       "</style>\n",
       "<table border=\"1\" class=\"dataframe\">\n",
       "  <thead>\n",
       "    <tr style=\"text-align: right;\">\n",
       "      <th></th>\n",
       "      <th>age</th>\n",
       "      <th>fnlwgt</th>\n",
       "      <th>education-num</th>\n",
       "      <th>capital-gain</th>\n",
       "      <th>capital-loss</th>\n",
       "      <th>hours-per-week</th>\n",
       "    </tr>\n",
       "  </thead>\n",
       "  <tbody>\n",
       "    <tr>\n",
       "      <th>count</th>\n",
       "      <td>30162.000000</td>\n",
       "      <td>3.016200e+04</td>\n",
       "      <td>30162.000000</td>\n",
       "      <td>30162.000000</td>\n",
       "      <td>30162.000000</td>\n",
       "      <td>30162.000000</td>\n",
       "    </tr>\n",
       "    <tr>\n",
       "      <th>mean</th>\n",
       "      <td>38.437902</td>\n",
       "      <td>1.897938e+05</td>\n",
       "      <td>10.121312</td>\n",
       "      <td>1092.007858</td>\n",
       "      <td>88.372489</td>\n",
       "      <td>40.931238</td>\n",
       "    </tr>\n",
       "    <tr>\n",
       "      <th>std</th>\n",
       "      <td>13.134665</td>\n",
       "      <td>1.056530e+05</td>\n",
       "      <td>2.549995</td>\n",
       "      <td>7406.346497</td>\n",
       "      <td>404.298370</td>\n",
       "      <td>11.979984</td>\n",
       "    </tr>\n",
       "    <tr>\n",
       "      <th>min</th>\n",
       "      <td>17.000000</td>\n",
       "      <td>1.376900e+04</td>\n",
       "      <td>1.000000</td>\n",
       "      <td>0.000000</td>\n",
       "      <td>0.000000</td>\n",
       "      <td>1.000000</td>\n",
       "    </tr>\n",
       "    <tr>\n",
       "      <th>25%</th>\n",
       "      <td>28.000000</td>\n",
       "      <td>1.176272e+05</td>\n",
       "      <td>9.000000</td>\n",
       "      <td>0.000000</td>\n",
       "      <td>0.000000</td>\n",
       "      <td>40.000000</td>\n",
       "    </tr>\n",
       "    <tr>\n",
       "      <th>50%</th>\n",
       "      <td>37.000000</td>\n",
       "      <td>1.784250e+05</td>\n",
       "      <td>10.000000</td>\n",
       "      <td>0.000000</td>\n",
       "      <td>0.000000</td>\n",
       "      <td>40.000000</td>\n",
       "    </tr>\n",
       "    <tr>\n",
       "      <th>75%</th>\n",
       "      <td>47.000000</td>\n",
       "      <td>2.376285e+05</td>\n",
       "      <td>13.000000</td>\n",
       "      <td>0.000000</td>\n",
       "      <td>0.000000</td>\n",
       "      <td>45.000000</td>\n",
       "    </tr>\n",
       "    <tr>\n",
       "      <th>max</th>\n",
       "      <td>90.000000</td>\n",
       "      <td>1.484705e+06</td>\n",
       "      <td>16.000000</td>\n",
       "      <td>99999.000000</td>\n",
       "      <td>4356.000000</td>\n",
       "      <td>99.000000</td>\n",
       "    </tr>\n",
       "  </tbody>\n",
       "</table>\n",
       "</div>"
      ],
      "text/plain": [
       "                age        fnlwgt  education-num  capital-gain  capital-loss  \\\n",
       "count  30162.000000  3.016200e+04   30162.000000  30162.000000  30162.000000   \n",
       "mean      38.437902  1.897938e+05      10.121312   1092.007858     88.372489   \n",
       "std       13.134665  1.056530e+05       2.549995   7406.346497    404.298370   \n",
       "min       17.000000  1.376900e+04       1.000000      0.000000      0.000000   \n",
       "25%       28.000000  1.176272e+05       9.000000      0.000000      0.000000   \n",
       "50%       37.000000  1.784250e+05      10.000000      0.000000      0.000000   \n",
       "75%       47.000000  2.376285e+05      13.000000      0.000000      0.000000   \n",
       "max       90.000000  1.484705e+06      16.000000  99999.000000   4356.000000   \n",
       "\n",
       "       hours-per-week  \n",
       "count    30162.000000  \n",
       "mean        40.931238  \n",
       "std         11.979984  \n",
       "min          1.000000  \n",
       "25%         40.000000  \n",
       "50%         40.000000  \n",
       "75%         45.000000  \n",
       "max         99.000000  "
      ]
     },
     "execution_count": 11,
     "metadata": {},
     "output_type": "execute_result"
    }
   ],
   "source": [
    "#Describe each continuous variable\n",
    "adult_df.describe()"
   ]
  },
  {
   "cell_type": "markdown",
   "id": "b2203a55",
   "metadata": {},
   "source": [
    "We check for total sum of \"fnlwgt\" to see if it makes sense"
   ]
  },
  {
   "cell_type": "markdown",
   "id": "ec4ddf6b",
   "metadata": {},
   "source": [
    "Observations:\n",
    "\n",
    "1. Age of all the individauls is >17\n",
    "2. age, education-num and hours-per-week seem approx. normal distributions. We can further check the distributions to confirm\n",
    "3. More than 75% of the data in capital-gain and capital-loss column is 0 as we see with 3rd Quartile (75%) = 0\n",
    "4. fnlwgt can be dropped as we're unclear of it's usage - sum of fnlwgt is greater than total US population\n"
   ]
  },
  {
   "cell_type": "markdown",
   "id": "08856b19",
   "metadata": {},
   "source": [
    "#### Categorical variables"
   ]
  },
  {
   "cell_type": "code",
   "execution_count": 12,
   "id": "757ba19b",
   "metadata": {},
   "outputs": [
    {
     "data": {
      "text/html": [
       "<div>\n",
       "<style scoped>\n",
       "    .dataframe tbody tr th:only-of-type {\n",
       "        vertical-align: middle;\n",
       "    }\n",
       "\n",
       "    .dataframe tbody tr th {\n",
       "        vertical-align: top;\n",
       "    }\n",
       "\n",
       "    .dataframe thead th {\n",
       "        text-align: right;\n",
       "    }\n",
       "</style>\n",
       "<table border=\"1\" class=\"dataframe\">\n",
       "  <thead>\n",
       "    <tr style=\"text-align: right;\">\n",
       "      <th></th>\n",
       "      <th>workingclass</th>\n",
       "      <th>education</th>\n",
       "      <th>marital-status</th>\n",
       "      <th>occupation</th>\n",
       "      <th>relationship</th>\n",
       "      <th>race</th>\n",
       "      <th>sex</th>\n",
       "      <th>native-country</th>\n",
       "      <th>income</th>\n",
       "    </tr>\n",
       "  </thead>\n",
       "  <tbody>\n",
       "    <tr>\n",
       "      <th>count</th>\n",
       "      <td>30162</td>\n",
       "      <td>30162</td>\n",
       "      <td>30162</td>\n",
       "      <td>30162</td>\n",
       "      <td>30162</td>\n",
       "      <td>30162</td>\n",
       "      <td>30162</td>\n",
       "      <td>30162</td>\n",
       "      <td>30162</td>\n",
       "    </tr>\n",
       "    <tr>\n",
       "      <th>unique</th>\n",
       "      <td>7</td>\n",
       "      <td>16</td>\n",
       "      <td>7</td>\n",
       "      <td>14</td>\n",
       "      <td>6</td>\n",
       "      <td>5</td>\n",
       "      <td>2</td>\n",
       "      <td>41</td>\n",
       "      <td>2</td>\n",
       "    </tr>\n",
       "    <tr>\n",
       "      <th>top</th>\n",
       "      <td>Private</td>\n",
       "      <td>HS-grad</td>\n",
       "      <td>Married-civ-spouse</td>\n",
       "      <td>Prof-specialty</td>\n",
       "      <td>Husband</td>\n",
       "      <td>White</td>\n",
       "      <td>Male</td>\n",
       "      <td>United-States</td>\n",
       "      <td>&lt;=50K</td>\n",
       "    </tr>\n",
       "    <tr>\n",
       "      <th>freq</th>\n",
       "      <td>22286</td>\n",
       "      <td>9840</td>\n",
       "      <td>14065</td>\n",
       "      <td>4038</td>\n",
       "      <td>12463</td>\n",
       "      <td>25933</td>\n",
       "      <td>20380</td>\n",
       "      <td>27504</td>\n",
       "      <td>22654</td>\n",
       "    </tr>\n",
       "  </tbody>\n",
       "</table>\n",
       "</div>"
      ],
      "text/plain": [
       "       workingclass education      marital-status      occupation  \\\n",
       "count         30162     30162               30162           30162   \n",
       "unique            7        16                   7              14   \n",
       "top         Private   HS-grad  Married-civ-spouse  Prof-specialty   \n",
       "freq          22286      9840               14065            4038   \n",
       "\n",
       "       relationship   race    sex native-country income  \n",
       "count         30162  30162  30162          30162  30162  \n",
       "unique            6      5      2             41      2  \n",
       "top         Husband  White   Male  United-States  <=50K  \n",
       "freq          12463  25933  20380          27504  22654  "
      ]
     },
     "execution_count": 12,
     "metadata": {},
     "output_type": "execute_result"
    }
   ],
   "source": [
    "#Describe each categorical variable\n",
    "adult_df.describe(include = [\"O\"])"
   ]
  },
  {
   "cell_type": "markdown",
   "id": "92306953",
   "metadata": {},
   "source": [
    "Observation:\n",
    "Most of the data consists of people of workingclass = Private, Race = White, Native country = US, income <=50K"
   ]
  },
  {
   "cell_type": "markdown",
   "id": "c16dee59",
   "metadata": {},
   "source": [
    "### Analysing variables and encoding\n",
    "We try to check distributions of continuous variables and counts of categorical variables. Encoding and dropping of variables is done based on logical sense. However, we restrict this activity to be as minimal as possible in order to not lose out on information"
   ]
  },
  {
   "cell_type": "markdown",
   "id": "d805aaa4",
   "metadata": {},
   "source": [
    "#### Continuous variables\n",
    "#### Age, education-num and hours-per-week"
   ]
  },
  {
   "cell_type": "code",
   "execution_count": 13,
   "id": "e08ed1f6",
   "metadata": {},
   "outputs": [
    {
     "name": "stderr",
     "output_type": "stream",
     "text": [
      "C:\\Users\\User\\anaconda3\\lib\\site-packages\\seaborn\\distributions.py:2619: FutureWarning: `distplot` is a deprecated function and will be removed in a future version. Please adapt your code to use either `displot` (a figure-level function with similar flexibility) or `histplot` (an axes-level function for histograms).\n",
      "  warnings.warn(msg, FutureWarning)\n",
      "C:\\Users\\User\\anaconda3\\lib\\site-packages\\seaborn\\distributions.py:2619: FutureWarning: `distplot` is a deprecated function and will be removed in a future version. Please adapt your code to use either `displot` (a figure-level function with similar flexibility) or `histplot` (an axes-level function for histograms).\n",
      "  warnings.warn(msg, FutureWarning)\n",
      "C:\\Users\\User\\anaconda3\\lib\\site-packages\\seaborn\\distributions.py:2619: FutureWarning: `distplot` is a deprecated function and will be removed in a future version. Please adapt your code to use either `displot` (a figure-level function with similar flexibility) or `histplot` (an axes-level function for histograms).\n",
      "  warnings.warn(msg, FutureWarning)\n"
     ]
    },
    {
     "data": {
      "image/png": "[encoded data removed]",
      "text/plain": [
       "<Figure size 1080x288 with 3 Axes>"
      ]
     },
     "metadata": {
      "needs_background": "light"
     },
     "output_type": "display_data"
    }
   ],
   "source": [
    "fig, ax = plt.subplots(1,3, figsize = (15,4));\n",
    "sns.distplot(adult_df[\"age\"], ax = ax[0]);\n",
    "sns.distplot(adult_df[\"education-num\"], ax = ax[1]);\n",
    "sns.distplot(adult_df[\"hours-per-week\"], ax = ax[2]);"
   ]
  },
  {
   "cell_type": "markdown",
   "id": "dafd9a7d",
   "metadata": {},
   "source": [
    "Observations:\n",
    "\n",
    "1. Age is right-skewed distribution since we have the dataset of adults only\n",
    "2. Education-num is not continuous and has integer values only, we can further check this\n",
    "3. Hours-per-week has a huge spike at 40 which is normal working hours"
   ]
  },
  {
   "cell_type": "markdown",
   "id": "eb64f4e8",
   "metadata": {},
   "source": [
    "##### Capital-loss and capital-gain"
   ]
  },
  {
   "cell_type": "code",
   "execution_count": 14,
   "id": "991a82e2",
   "metadata": {},
   "outputs": [
    {
     "name": "stderr",
     "output_type": "stream",
     "text": [
      "C:\\Users\\User\\anaconda3\\lib\\site-packages\\seaborn\\distributions.py:2619: FutureWarning: `distplot` is a deprecated function and will be removed in a future version. Please adapt your code to use either `displot` (a figure-level function with similar flexibility) or `histplot` (an axes-level function for histograms).\n",
      "  warnings.warn(msg, FutureWarning)\n"
     ]
    },
    {
     "data": {
      "image/png": "[encoded data removed]",
      "text/plain": [
       "<Figure size 720x288 with 2 Axes>"
      ]
     },
     "metadata": {
      "needs_background": "light"
     },
     "output_type": "display_data"
    }
   ],
   "source": [
    "fig, ax = plt.subplots(1,2, figsize = (10,4));\n",
    "sns.distplot(adult_df[\"capital-gain\"], ax = ax[0], kde = False);\n",
    "sns.distplot(adult_df[\"capital-loss\"], ax = ax[1], kde = False);"
   ]
  },
  {
   "cell_type": "markdown",
   "id": "32e74df5",
   "metadata": {},
   "source": [
    "Most values in capital-gain and capital-loss are 0"
   ]
  },
  {
   "cell_type": "code",
   "execution_count": 15,
   "id": "2e1fd960",
   "metadata": {},
   "outputs": [
    {
     "name": "stdout",
     "output_type": "stream",
     "text": [
      "Percentage of 0 values in capital-gain = 92.0%\n"
     ]
    }
   ],
   "source": [
    "print(\"Percentage of 0 values in capital-gain = \"+str(round(np.mean(adult_df[\"capital-gain\"]==0),2)*100)+\"%\")\n"
   ]
  },
  {
   "cell_type": "code",
   "execution_count": 16,
   "id": "81b7814d",
   "metadata": {},
   "outputs": [
    {
     "name": "stdout",
     "output_type": "stream",
     "text": [
      "Percentage of 0 values in capital-gain = 95.0%\n"
     ]
    }
   ],
   "source": [
    "print(\"Percentage of 0 values in capital-gain = \"+str(round(np.mean(adult_df[\"capital-loss\"]==0),2)*100)+\"%\")"
   ]
  },
  {
   "cell_type": "markdown",
   "id": "a5b1e7df",
   "metadata": {},
   "source": [
    "Percentage of 0 values in capital-gain = 95.0%\n",
    "As both the variables are related we encode them as one - capital-net_>0\n",
    "\n",
    "1. (capital-gain) - (capital-loss) > 0 then 1\n",
    "2. (capital-gain) - (capital-loss) <=0 then 0"
   ]
  },
  {
   "cell_type": "code",
   "execution_count": 17,
   "id": "52bd88bb",
   "metadata": {},
   "outputs": [],
   "source": [
    "adult_df[\"capital-net_>0\"] = ((adult_df['capital-gain']- adult_df[\"capital-loss\"]) > 0)*1"
   ]
  },
  {
   "cell_type": "markdown",
   "id": "a2ad8f54",
   "metadata": {},
   "source": [
    "#### Categorical variables\n",
    "##### Education"
   ]
  },
  {
   "cell_type": "markdown",
   "id": "0441ae30",
   "metadata": {},
   "source": [
    "Education-num and education are expected to be highly correlated. We check this using a contingency table."
   ]
  },
  {
   "cell_type": "code",
   "execution_count": 18,
   "id": "aec94ca9",
   "metadata": {},
   "outputs": [
    {
     "data": {
      "text/html": [
       "<div>\n",
       "<style scoped>\n",
       "    .dataframe tbody tr th:only-of-type {\n",
       "        vertical-align: middle;\n",
       "    }\n",
       "\n",
       "    .dataframe tbody tr th {\n",
       "        vertical-align: top;\n",
       "    }\n",
       "\n",
       "    .dataframe thead th {\n",
       "        text-align: right;\n",
       "    }\n",
       "</style>\n",
       "<table border=\"1\" class=\"dataframe\">\n",
       "  <thead>\n",
       "    <tr style=\"text-align: right;\">\n",
       "      <th>education-num</th>\n",
       "      <th>1</th>\n",
       "      <th>2</th>\n",
       "      <th>3</th>\n",
       "      <th>4</th>\n",
       "      <th>5</th>\n",
       "      <th>6</th>\n",
       "      <th>7</th>\n",
       "      <th>8</th>\n",
       "      <th>9</th>\n",
       "      <th>10</th>\n",
       "      <th>11</th>\n",
       "      <th>12</th>\n",
       "      <th>13</th>\n",
       "      <th>14</th>\n",
       "      <th>15</th>\n",
       "      <th>16</th>\n",
       "    </tr>\n",
       "    <tr>\n",
       "      <th>education</th>\n",
       "      <th></th>\n",
       "      <th></th>\n",
       "      <th></th>\n",
       "      <th></th>\n",
       "      <th></th>\n",
       "      <th></th>\n",
       "      <th></th>\n",
       "      <th></th>\n",
       "      <th></th>\n",
       "      <th></th>\n",
       "      <th></th>\n",
       "      <th></th>\n",
       "      <th></th>\n",
       "      <th></th>\n",
       "      <th></th>\n",
       "      <th></th>\n",
       "    </tr>\n",
       "  </thead>\n",
       "  <tbody>\n",
       "    <tr>\n",
       "      <th>10th</th>\n",
       "      <td>0</td>\n",
       "      <td>0</td>\n",
       "      <td>0</td>\n",
       "      <td>0</td>\n",
       "      <td>0</td>\n",
       "      <td>820</td>\n",
       "      <td>0</td>\n",
       "      <td>0</td>\n",
       "      <td>0</td>\n",
       "      <td>0</td>\n",
       "      <td>0</td>\n",
       "      <td>0</td>\n",
       "      <td>0</td>\n",
       "      <td>0</td>\n",
       "      <td>0</td>\n",
       "      <td>0</td>\n",
       "    </tr>\n",
       "    <tr>\n",
       "      <th>11th</th>\n",
       "      <td>0</td>\n",
       "      <td>0</td>\n",
       "      <td>0</td>\n",
       "      <td>0</td>\n",
       "      <td>0</td>\n",
       "      <td>0</td>\n",
       "      <td>1048</td>\n",
       "      <td>0</td>\n",
       "      <td>0</td>\n",
       "      <td>0</td>\n",
       "      <td>0</td>\n",
       "      <td>0</td>\n",
       "      <td>0</td>\n",
       "      <td>0</td>\n",
       "      <td>0</td>\n",
       "      <td>0</td>\n",
       "    </tr>\n",
       "    <tr>\n",
       "      <th>12th</th>\n",
       "      <td>0</td>\n",
       "      <td>0</td>\n",
       "      <td>0</td>\n",
       "      <td>0</td>\n",
       "      <td>0</td>\n",
       "      <td>0</td>\n",
       "      <td>0</td>\n",
       "      <td>377</td>\n",
       "      <td>0</td>\n",
       "      <td>0</td>\n",
       "      <td>0</td>\n",
       "      <td>0</td>\n",
       "      <td>0</td>\n",
       "      <td>0</td>\n",
       "      <td>0</td>\n",
       "      <td>0</td>\n",
       "    </tr>\n",
       "    <tr>\n",
       "      <th>1st-4th</th>\n",
       "      <td>0</td>\n",
       "      <td>151</td>\n",
       "      <td>0</td>\n",
       "      <td>0</td>\n",
       "      <td>0</td>\n",
       "      <td>0</td>\n",
       "      <td>0</td>\n",
       "      <td>0</td>\n",
       "      <td>0</td>\n",
       "      <td>0</td>\n",
       "      <td>0</td>\n",
       "      <td>0</td>\n",
       "      <td>0</td>\n",
       "      <td>0</td>\n",
       "      <td>0</td>\n",
       "      <td>0</td>\n",
       "    </tr>\n",
       "    <tr>\n",
       "      <th>5th-6th</th>\n",
       "      <td>0</td>\n",
       "      <td>0</td>\n",
       "      <td>288</td>\n",
       "      <td>0</td>\n",
       "      <td>0</td>\n",
       "      <td>0</td>\n",
       "      <td>0</td>\n",
       "      <td>0</td>\n",
       "      <td>0</td>\n",
       "      <td>0</td>\n",
       "      <td>0</td>\n",
       "      <td>0</td>\n",
       "      <td>0</td>\n",
       "      <td>0</td>\n",
       "      <td>0</td>\n",
       "      <td>0</td>\n",
       "    </tr>\n",
       "    <tr>\n",
       "      <th>7th-8th</th>\n",
       "      <td>0</td>\n",
       "      <td>0</td>\n",
       "      <td>0</td>\n",
       "      <td>557</td>\n",
       "      <td>0</td>\n",
       "      <td>0</td>\n",
       "      <td>0</td>\n",
       "      <td>0</td>\n",
       "      <td>0</td>\n",
       "      <td>0</td>\n",
       "      <td>0</td>\n",
       "      <td>0</td>\n",
       "      <td>0</td>\n",
       "      <td>0</td>\n",
       "      <td>0</td>\n",
       "      <td>0</td>\n",
       "    </tr>\n",
       "    <tr>\n",
       "      <th>9th</th>\n",
       "      <td>0</td>\n",
       "      <td>0</td>\n",
       "      <td>0</td>\n",
       "      <td>0</td>\n",
       "      <td>455</td>\n",
       "      <td>0</td>\n",
       "      <td>0</td>\n",
       "      <td>0</td>\n",
       "      <td>0</td>\n",
       "      <td>0</td>\n",
       "      <td>0</td>\n",
       "      <td>0</td>\n",
       "      <td>0</td>\n",
       "      <td>0</td>\n",
       "      <td>0</td>\n",
       "      <td>0</td>\n",
       "    </tr>\n",
       "    <tr>\n",
       "      <th>Assoc-acdm</th>\n",
       "      <td>0</td>\n",
       "      <td>0</td>\n",
       "      <td>0</td>\n",
       "      <td>0</td>\n",
       "      <td>0</td>\n",
       "      <td>0</td>\n",
       "      <td>0</td>\n",
       "      <td>0</td>\n",
       "      <td>0</td>\n",
       "      <td>0</td>\n",
       "      <td>0</td>\n",
       "      <td>1008</td>\n",
       "      <td>0</td>\n",
       "      <td>0</td>\n",
       "      <td>0</td>\n",
       "      <td>0</td>\n",
       "    </tr>\n",
       "    <tr>\n",
       "      <th>Assoc-voc</th>\n",
       "      <td>0</td>\n",
       "      <td>0</td>\n",
       "      <td>0</td>\n",
       "      <td>0</td>\n",
       "      <td>0</td>\n",
       "      <td>0</td>\n",
       "      <td>0</td>\n",
       "      <td>0</td>\n",
       "      <td>0</td>\n",
       "      <td>0</td>\n",
       "      <td>1307</td>\n",
       "      <td>0</td>\n",
       "      <td>0</td>\n",
       "      <td>0</td>\n",
       "      <td>0</td>\n",
       "      <td>0</td>\n",
       "    </tr>\n",
       "    <tr>\n",
       "      <th>Bachelors</th>\n",
       "      <td>0</td>\n",
       "      <td>0</td>\n",
       "      <td>0</td>\n",
       "      <td>0</td>\n",
       "      <td>0</td>\n",
       "      <td>0</td>\n",
       "      <td>0</td>\n",
       "      <td>0</td>\n",
       "      <td>0</td>\n",
       "      <td>0</td>\n",
       "      <td>0</td>\n",
       "      <td>0</td>\n",
       "      <td>5044</td>\n",
       "      <td>0</td>\n",
       "      <td>0</td>\n",
       "      <td>0</td>\n",
       "    </tr>\n",
       "    <tr>\n",
       "      <th>Doctorate</th>\n",
       "      <td>0</td>\n",
       "      <td>0</td>\n",
       "      <td>0</td>\n",
       "      <td>0</td>\n",
       "      <td>0</td>\n",
       "      <td>0</td>\n",
       "      <td>0</td>\n",
       "      <td>0</td>\n",
       "      <td>0</td>\n",
       "      <td>0</td>\n",
       "      <td>0</td>\n",
       "      <td>0</td>\n",
       "      <td>0</td>\n",
       "      <td>0</td>\n",
       "      <td>0</td>\n",
       "      <td>375</td>\n",
       "    </tr>\n",
       "    <tr>\n",
       "      <th>HS-grad</th>\n",
       "      <td>0</td>\n",
       "      <td>0</td>\n",
       "      <td>0</td>\n",
       "      <td>0</td>\n",
       "      <td>0</td>\n",
       "      <td>0</td>\n",
       "      <td>0</td>\n",
       "      <td>0</td>\n",
       "      <td>9840</td>\n",
       "      <td>0</td>\n",
       "      <td>0</td>\n",
       "      <td>0</td>\n",
       "      <td>0</td>\n",
       "      <td>0</td>\n",
       "      <td>0</td>\n",
       "      <td>0</td>\n",
       "    </tr>\n",
       "    <tr>\n",
       "      <th>Masters</th>\n",
       "      <td>0</td>\n",
       "      <td>0</td>\n",
       "      <td>0</td>\n",
       "      <td>0</td>\n",
       "      <td>0</td>\n",
       "      <td>0</td>\n",
       "      <td>0</td>\n",
       "      <td>0</td>\n",
       "      <td>0</td>\n",
       "      <td>0</td>\n",
       "      <td>0</td>\n",
       "      <td>0</td>\n",
       "      <td>0</td>\n",
       "      <td>1627</td>\n",
       "      <td>0</td>\n",
       "      <td>0</td>\n",
       "    </tr>\n",
       "    <tr>\n",
       "      <th>Preschool</th>\n",
       "      <td>45</td>\n",
       "      <td>0</td>\n",
       "      <td>0</td>\n",
       "      <td>0</td>\n",
       "      <td>0</td>\n",
       "      <td>0</td>\n",
       "      <td>0</td>\n",
       "      <td>0</td>\n",
       "      <td>0</td>\n",
       "      <td>0</td>\n",
       "      <td>0</td>\n",
       "      <td>0</td>\n",
       "      <td>0</td>\n",
       "      <td>0</td>\n",
       "      <td>0</td>\n",
       "      <td>0</td>\n",
       "    </tr>\n",
       "    <tr>\n",
       "      <th>Prof-school</th>\n",
       "      <td>0</td>\n",
       "      <td>0</td>\n",
       "      <td>0</td>\n",
       "      <td>0</td>\n",
       "      <td>0</td>\n",
       "      <td>0</td>\n",
       "      <td>0</td>\n",
       "      <td>0</td>\n",
       "      <td>0</td>\n",
       "      <td>0</td>\n",
       "      <td>0</td>\n",
       "      <td>0</td>\n",
       "      <td>0</td>\n",
       "      <td>0</td>\n",
       "      <td>542</td>\n",
       "      <td>0</td>\n",
       "    </tr>\n",
       "    <tr>\n",
       "      <th>Some-college</th>\n",
       "      <td>0</td>\n",
       "      <td>0</td>\n",
       "      <td>0</td>\n",
       "      <td>0</td>\n",
       "      <td>0</td>\n",
       "      <td>0</td>\n",
       "      <td>0</td>\n",
       "      <td>0</td>\n",
       "      <td>0</td>\n",
       "      <td>6678</td>\n",
       "      <td>0</td>\n",
       "      <td>0</td>\n",
       "      <td>0</td>\n",
       "      <td>0</td>\n",
       "      <td>0</td>\n",
       "      <td>0</td>\n",
       "    </tr>\n",
       "  </tbody>\n",
       "</table>\n",
       "</div>"
      ],
      "text/plain": [
       "education-num  1    2    3    4    5    6     7    8     9     10    11    12  \\\n",
       "education                                                                       \n",
       "10th            0    0    0    0    0  820     0    0     0     0     0     0   \n",
       "11th            0    0    0    0    0    0  1048    0     0     0     0     0   \n",
       "12th            0    0    0    0    0    0     0  377     0     0     0     0   \n",
       "1st-4th         0  151    0    0    0    0     0    0     0     0     0     0   \n",
       "5th-6th         0    0  288    0    0    0     0    0     0     0     0     0   \n",
       "7th-8th         0    0    0  557    0    0     0    0     0     0     0     0   \n",
       "9th             0    0    0    0  455    0     0    0     0     0     0     0   \n",
       "Assoc-acdm      0    0    0    0    0    0     0    0     0     0     0  1008   \n",
       "Assoc-voc       0    0    0    0    0    0     0    0     0     0  1307     0   \n",
       "Bachelors       0    0    0    0    0    0     0    0     0     0     0     0   \n",
       "Doctorate       0    0    0    0    0    0     0    0     0     0     0     0   \n",
       "HS-grad         0    0    0    0    0    0     0    0  9840     0     0     0   \n",
       "Masters         0    0    0    0    0    0     0    0     0     0     0     0   \n",
       "Preschool      45    0    0    0    0    0     0    0     0     0     0     0   \n",
       "Prof-school     0    0    0    0    0    0     0    0     0     0     0     0   \n",
       "Some-college    0    0    0    0    0    0     0    0     0  6678     0     0   \n",
       "\n",
       "education-num    13    14   15   16  \n",
       "education                            \n",
       "10th              0     0    0    0  \n",
       "11th              0     0    0    0  \n",
       "12th              0     0    0    0  \n",
       "1st-4th           0     0    0    0  \n",
       "5th-6th           0     0    0    0  \n",
       "7th-8th           0     0    0    0  \n",
       "9th               0     0    0    0  \n",
       "Assoc-acdm        0     0    0    0  \n",
       "Assoc-voc         0     0    0    0  \n",
       "Bachelors      5044     0    0    0  \n",
       "Doctorate         0     0    0  375  \n",
       "HS-grad           0     0    0    0  \n",
       "Masters           0  1627    0    0  \n",
       "Preschool         0     0    0    0  \n",
       "Prof-school       0     0  542    0  \n",
       "Some-college      0     0    0    0  "
      ]
     },
     "execution_count": 18,
     "metadata": {},
     "output_type": "execute_result"
    }
   ],
   "source": [
    "cont_table = pd.crosstab(adult_df[\"education\"],adult_df[\"education-num\"], margins = False)\n",
    "cont_table"
   ]
  },
  {
   "cell_type": "markdown",
   "id": "96c684bb",
   "metadata": {},
   "source": [
    "##### Workingclass\n",
    "Check for % values of each category"
   ]
  },
  {
   "cell_type": "code",
   "execution_count": 19,
   "id": "84c7c38e",
   "metadata": {},
   "outputs": [
    {
     "data": {
      "text/plain": [
       "Private             73.89\n",
       "Self-emp-not-inc     8.29\n",
       "Local-gov            6.85\n",
       "State-gov            4.24\n",
       "Self-emp-inc         3.56\n",
       "Federal-gov          3.13\n",
       "Without-pay          0.05\n",
       "Name: workingclass, dtype: float64"
      ]
     },
     "execution_count": 19,
     "metadata": {},
     "output_type": "execute_result"
    }
   ],
   "source": [
    "round(adult_df[\"workingclass\"].value_counts(normalize = True)*100,2)"
   ]
  },
  {
   "cell_type": "markdown",
   "id": "c3817e39",
   "metadata": {},
   "source": [
    "We can group workingclass types into fewer categories are meaningful categories\n",
    "\n",
    "1. Govt = Federal-gov, Local-gov and State-gov\n",
    "2. Self-emp = Self-emp-inc, Self-emp-not-inc\n",
    "3. No-work-inc = Without pay, Never worked"
   ]
  },
  {
   "cell_type": "code",
   "execution_count": 20,
   "id": "db59c8d2",
   "metadata": {},
   "outputs": [],
   "source": [
    "##Encoding different types of govt jobs to a single value\n",
    "adult_df.loc[((adult_df[\"workingclass\"] == \"Federal-gov\")| (adult_df[\"workingclass\"] == \"Local-gov\")  |(adult_df[\"workingclass\"] == \"State-gov\")), \"workingclass\"] = \"Govt\"\n",
    "adult_df.loc[((adult_df[\"workingclass\"] == \"Self-emp-inc\")| (adult_df[\"workingclass\"] == \"Self-emp-not-inc\")), \"workingclass\"] = \"Self-emp\"\n",
    "adult_df.loc[((adult_df[\"workingclass\"] == \"Without-pay\")| (adult_df[\"workingclass\"] == \"Never-worked\")), \"workingclass\"]  = \"No-work-inc\""
   ]
  },
  {
   "cell_type": "markdown",
   "id": "dd9989bb",
   "metadata": {},
   "source": [
    "#### Race\n",
    "Check for % values of each category"
   ]
  },
  {
   "cell_type": "code",
   "execution_count": 21,
   "id": "e445cafd",
   "metadata": {},
   "outputs": [
    {
     "data": {
      "text/plain": [
       "White                 85.98\n",
       "Black                  9.34\n",
       "Asian-Pac-Islander     2.97\n",
       "Amer-Indian-Eskimo     0.95\n",
       "Other                  0.77\n",
       "Name: race, dtype: float64"
      ]
     },
     "execution_count": 21,
     "metadata": {},
     "output_type": "execute_result"
    }
   ],
   "source": [
    "round(adult_df[\"race\"].value_counts(normalize = True)*100,2)"
   ]
  },
  {
   "cell_type": "markdown",
   "id": "b1d18668",
   "metadata": {},
   "source": [
    "We hardly have any data for the last three categories, we can encode them into \"Other\" category"
   ]
  },
  {
   "cell_type": "code",
   "execution_count": 22,
   "id": "c863eb09",
   "metadata": {},
   "outputs": [],
   "source": [
    "adult_df.loc[((adult_df[\"race\"] == \"Amer-Indian-Eskimo\") | (adult_df[\"race\"] == \"Asian-Pac-Islander\")),  \"race\"] = \"Other\"\n"
   ]
  },
  {
   "cell_type": "markdown",
   "id": "191fc775",
   "metadata": {},
   "source": [
    "#### Marital-status\n",
    "Check for % values of each category"
   ]
  },
  {
   "cell_type": "code",
   "execution_count": 23,
   "id": "026e620a",
   "metadata": {},
   "outputs": [
    {
     "data": {
      "text/plain": [
       "Married-civ-spouse       46.63\n",
       "Never-married            32.25\n",
       "Divorced                 13.97\n",
       "Separated                 3.11\n",
       "Widowed                   2.74\n",
       "Married-spouse-absent     1.23\n",
       "Married-AF-spouse         0.07\n",
       "Name: marital-status, dtype: float64"
      ]
     },
     "execution_count": 23,
     "metadata": {},
     "output_type": "execute_result"
    }
   ],
   "source": [
    "round(adult_df[\"marital-status\"].value_counts(normalize = True)*100,2)"
   ]
  },
  {
   "cell_type": "markdown",
   "id": "22f375f2",
   "metadata": {},
   "source": [
    "We can encode these into 3 categories\n",
    "\n",
    "1. Married = Married-civ-spouse, Married-spouse-absent, Married-AF-spouse\n",
    "2. Not-married (Separated, Divorced and Widowed)\n",
    "3. Never-Married"
   ]
  },
  {
   "cell_type": "markdown",
   "id": "d6696b01",
   "metadata": {},
   "source": [
    "#### Occupation\n",
    "Check for % values of each category"
   ]
  },
  {
   "cell_type": "markdown",
   "id": "1d35e528",
   "metadata": {},
   "source": [
    "Each occupation is unique. Some occupations have very low counts (last 3) and do not add much value to the data. We encode them by creating \"Other\" category"
   ]
  },
  {
   "cell_type": "markdown",
   "id": "c85753e4",
   "metadata": {},
   "source": [
    "#### Relationship\n",
    "Check for % values of each category"
   ]
  },
  {
   "cell_type": "code",
   "execution_count": 24,
   "id": "c54929f3",
   "metadata": {},
   "outputs": [
    {
     "data": {
      "text/plain": [
       "Husband           41.32\n",
       "Not-in-family     25.62\n",
       "Own-child         14.81\n",
       "Unmarried         10.65\n",
       "Wife               4.66\n",
       "Other-relative     2.95\n",
       "Name: relationship, dtype: float64"
      ]
     },
     "execution_count": 24,
     "metadata": {},
     "output_type": "execute_result"
    }
   ],
   "source": [
    "round(adult_df[\"relationship\"].value_counts(normalize = True)*100,2)"
   ]
  },
  {
   "cell_type": "markdown",
   "id": "c5fd5ece",
   "metadata": {},
   "source": [
    "Since we already have marital-status, relationship variable is redundant as husband, wife values will always be married. Therefore, we can drop it"
   ]
  },
  {
   "cell_type": "markdown",
   "id": "c4499e07",
   "metadata": {},
   "source": [
    "#### Native-country\n",
    "Check for % values of US and Mexico"
   ]
  },
  {
   "cell_type": "code",
   "execution_count": 25,
   "id": "b5d9e52f",
   "metadata": {},
   "outputs": [
    {
     "name": "stdout",
     "output_type": "stream",
     "text": [
      "Total number of countries = 41\n",
      "United-States    91.0\n",
      "Mexico            2.0\n",
      "Name: native-country, dtype: float64\n"
     ]
    }
   ],
   "source": [
    "cntry_counts = adult_df[\"native-country\"].value_counts()\n",
    "print(\"Total number of countries = \"+ str(len(cntry_counts)))\n",
    "print(round(cntry_counts[0:2]/np.sum(cntry_counts),2)*100)"
   ]
  },
  {
   "cell_type": "code",
   "execution_count": 26,
   "id": "78b627f0",
   "metadata": {},
   "outputs": [],
   "source": [
    "adult_df.loc[((adult_df[\"native-country\"] != \"United-States\") & (adult_df[\"native-country\"] != \"Mexico\")),\"native-country\"] = \"Other\""
   ]
  },
  {
   "cell_type": "markdown",
   "id": "255645ce",
   "metadata": {},
   "source": [
    "#### Class - Distribution"
   ]
  },
  {
   "cell_type": "code",
   "execution_count": 27,
   "id": "f38b00cf",
   "metadata": {},
   "outputs": [
    {
     "name": "stderr",
     "output_type": "stream",
     "text": [
      "C:\\Users\\User\\anaconda3\\lib\\site-packages\\seaborn\\_decorators.py:36: FutureWarning: Pass the following variable as a keyword arg: x. From version 0.12, the only valid positional argument will be `data`, and passing other arguments without an explicit keyword will result in an error or misinterpretation.\n",
      "  warnings.warn(\n"
     ]
    },
    {
     "data": {
      "image/png": "[encoded data removed]",
      "text/plain": [
       "<Figure size 432x288 with 1 Axes>"
      ]
     },
     "metadata": {
      "needs_background": "light"
     },
     "output_type": "display_data"
    }
   ],
   "source": [
    "sns.countplot(adult_df[\"income\"]);"
   ]
  },
  {
   "cell_type": "markdown",
   "id": "23ea2f9c",
   "metadata": {},
   "source": [
    "We have 75% of the population below 50K income and 25% above 50K"
   ]
  },
  {
   "cell_type": "markdown",
   "id": "22427a9f",
   "metadata": {},
   "source": [
    "#### Dropping variables\n",
    "In this section, we drop variables which have been identified as irrelevant or redundant due because of other variables\n",
    "\n",
    "##### capital-gain and capital-loss - as we have capital-net_>0"
   ]
  },
  {
   "cell_type": "code",
   "execution_count": 28,
   "id": "93ba2bcf",
   "metadata": {},
   "outputs": [],
   "source": [
    "adult_df.drop([\"capital-gain\", \"capital-loss\"], axis = 1, inplace =True)"
   ]
  },
  {
   "cell_type": "markdown",
   "id": "7285674e",
   "metadata": {},
   "source": [
    "##### education - as we have education-num"
   ]
  },
  {
   "cell_type": "code",
   "execution_count": 29,
   "id": "f4182e0c",
   "metadata": {},
   "outputs": [],
   "source": [
    "adult_df.drop(\"education\", axis = 1, inplace = True)"
   ]
  },
  {
   "cell_type": "markdown",
   "id": "2516d6f0",
   "metadata": {},
   "source": [
    "##### fnlwgt - unsure about its interpretation"
   ]
  },
  {
   "cell_type": "code",
   "execution_count": 30,
   "id": "83292d7e",
   "metadata": {},
   "outputs": [],
   "source": [
    "adult_df.drop(\"fnlwgt\", axis = 1, inplace = True)"
   ]
  },
  {
   "cell_type": "markdown",
   "id": "6542f698",
   "metadata": {},
   "source": [
    "##### relationship - as this information is already conveyed by marital status"
   ]
  },
  {
   "cell_type": "code",
   "execution_count": 31,
   "id": "1c2eb0dc",
   "metadata": {},
   "outputs": [],
   "source": [
    "adult_df.drop(\"relationship\", axis = 1, inplace = True)"
   ]
  },
  {
   "cell_type": "markdown",
   "id": "7dca0d2f",
   "metadata": {},
   "source": [
    "#### Dummy encoding of categorical features"
   ]
  },
  {
   "cell_type": "markdown",
   "id": "1bc1c270",
   "metadata": {},
   "source": [
    "We encode categorical variables using one-hot encoding so make the data usable for a classifier"
   ]
  },
  {
   "cell_type": "code",
   "execution_count": 32,
   "id": "88e0f05f",
   "metadata": {},
   "outputs": [],
   "source": [
    "adult_df_new = pd.get_dummies(adult_df)"
   ]
  },
  {
   "cell_type": "code",
   "execution_count": 33,
   "id": "7321118c",
   "metadata": {},
   "outputs": [],
   "source": [
    "#One-hot encoding, we drop one variable which is redundant to avoid issues of multicollinearity \n",
    "#adult_df_new.drop(\"workingclass_No-work-inc\", axis = 1, inplace = True)\n",
    "#adult_df_new.drop(\"marital-status_Not-Married\", axis = 1, inplace = True)\n",
    "#adult_df_new.drop(\"occupation_Other\", axis = 1, inplace = True)\n",
    "adult_df_new.drop(\"race_Other\", axis = 1, inplace = True)\n",
    "adult_df_new.drop(\"sex_Female\", axis = 1, inplace = True)\n",
    "adult_df_new.drop(\"native-country_Other\", axis = 1, inplace = True)\n",
    "adult_df_new.drop(\"income_<=50K\", axis = 1, inplace = True)"
   ]
  },
  {
   "cell_type": "markdown",
   "id": "53bd3657",
   "metadata": {},
   "source": [
    "#### Correlation\n",
    "In this section, we check for correlation between the features"
   ]
  },
  {
   "cell_type": "code",
   "execution_count": 34,
   "id": "51e90b26",
   "metadata": {},
   "outputs": [
    {
     "data": {
      "image/png": "[encoded data removed]",
      "text/plain": [
       "<Figure size 720x720 with 2 Axes>"
      ]
     },
     "metadata": {
      "needs_background": "light"
     },
     "output_type": "display_data"
    }
   ],
   "source": [
    "plt.figure(figsize = (10,10));\n",
    "sns.heatmap(adult_df_new.corr());"
   ]
  },
  {
   "cell_type": "markdown",
   "id": "3442ac22",
   "metadata": {},
   "source": [
    "#### Observations:\n",
    "\n",
    "1. Age has a strong negative correlation with marital-status\n",
    "2. Native-country and race have a high correlation for specific values\n",
    "3. Surprisingly native-country also has a correlation with education-num\n",
    "4. Many of the features have good correlation with the class income > 50k\n",
    "5. Therefore, we need to select features so as to not overestimate or underestimate a feature's importance\n",
    "\n",
    "#### Feature Selection\n",
    "In this section, we try to find out important features for model building. This will be used for all the analysis\n",
    "\n",
    "Implementation of random forest classifier and check feature importance\n",
    "We compare the performance of the classifier using the feature and comparing it with its randomly permuted copies"
   ]
  },
  {
   "cell_type": "code",
   "execution_count": 35,
   "id": "fa575c60",
   "metadata": {},
   "outputs": [],
   "source": [
    "rf = RandomForestClassifier()\n",
    "rf.fit(adult_df_new.loc[:, adult_df_new.columns != \"income_>50K\"], adult_df_new[\"income_>50K\"]);\n",
    "result = permutation_importance(rf, adult_df_new.loc[:, adult_df_new.columns != \"income_>50K\"], adult_df_new[\"income_>50K\"], n_repeats=5)\n",
    "sorted_idx = result.importances_mean.argsort()"
   ]
  },
  {
   "cell_type": "code",
   "execution_count": 36,
   "id": "26cdd097",
   "metadata": {},
   "outputs": [
    {
     "data": {
      "image/png": "[encoded data removed]",
      "text/plain": [
       "<Figure size 720x432 with 1 Axes>"
      ]
     },
     "metadata": {
      "needs_background": "light"
     },
     "output_type": "display_data"
    }
   ],
   "source": [
    "fig, ax = plt.subplots(figsize = (10,6))\n",
    "ax.boxplot(result.importances[sorted_idx].T,\n",
    "           vert=False, labels=adult_df_new.loc[:, adult_df_new.columns != \"income_>50K\"].columns[sorted_idx])\n",
    "ax.set_title(\"Permutation Importance of features\")\n",
    "fig.tight_layout()\n",
    "plt.show()"
   ]
  },
  {
   "cell_type": "markdown",
   "id": "d134edc8",
   "metadata": {},
   "source": [
    "#### Observation:\n",
    "\n",
    "We categorize the features based on importance for simplicity:\n",
    "\n",
    "1. Very important features: age, education_num, marital_status, hours_per_week\n",
    "2. Other important features: sex, capital_net>0, Occupation (top ones) , working-class, race\n",
    "    \n",
    "We drop the not so important features, if it's a categorical feature then it is automatically encoded in \"Other\" category"
   ]
  },
  {
   "cell_type": "code",
   "execution_count": 37,
   "id": "b8204ea5",
   "metadata": {},
   "outputs": [],
   "source": [
    "features = adult_df_new.loc[:, adult_df_new.columns != \"income_>50K\"].columns\n",
    "\n",
    "features_selected = list(features[result.importances_mean > 0.01])\n",
    "features_vimp = list(features[result.importances_mean > 0.05])\n",
    "features_imp = list(features[(result.importances_mean <= 0.05) & (result.importances_mean > 0.01)])\n",
    "\n",
    "#We select only the important features\n",
    "adult_df_new = adult_df_new.loc[:,features_selected+[\"income_>50K\"]]"
   ]
  },
  {
   "cell_type": "markdown",
   "id": "8d38fe7e",
   "metadata": {},
   "source": [
    "### Inferential Analysis\n",
    "\n",
    "#### Factors impacting the high/low income class\n",
    "In this section, we check for factors affecting the high/low income class in terms of the features we have selected\n",
    "\n",
    "#### Very important features"
   ]
  },
  {
   "cell_type": "code",
   "execution_count": 38,
   "id": "7102e14a",
   "metadata": {},
   "outputs": [
    {
     "name": "stderr",
     "output_type": "stream",
     "text": [
      "C:\\Users\\User\\anaconda3\\lib\\site-packages\\seaborn\\_decorators.py:36: FutureWarning: Pass the following variable as a keyword arg: x. From version 0.12, the only valid positional argument will be `data`, and passing other arguments without an explicit keyword will result in an error or misinterpretation.\n",
      "  warnings.warn(\n",
      "C:\\Users\\User\\anaconda3\\lib\\site-packages\\seaborn\\_decorators.py:36: FutureWarning: Pass the following variable as a keyword arg: x. From version 0.12, the only valid positional argument will be `data`, and passing other arguments without an explicit keyword will result in an error or misinterpretation.\n",
      "  warnings.warn(\n",
      "C:\\Users\\User\\anaconda3\\lib\\site-packages\\seaborn\\_decorators.py:36: FutureWarning: Pass the following variable as a keyword arg: x. From version 0.12, the only valid positional argument will be `data`, and passing other arguments without an explicit keyword will result in an error or misinterpretation.\n",
      "  warnings.warn(\n"
     ]
    },
    {
     "data": {
      "text/plain": [
       "Text(0.5, 1.0, 'Hours-per-week quantiles by income class')"
      ]
     },
     "execution_count": 38,
     "metadata": {},
     "output_type": "execute_result"
    },
    {
     "data": {
      "image/png": "[encoded data removed]",
      "text/plain": [
       "<Figure size 1296x720 with 4 Axes>"
      ]
     },
     "metadata": {
      "needs_background": "light"
     },
     "output_type": "display_data"
    }
   ],
   "source": [
    "fig, ax = plt.subplots(2,2, figsize=(18,10))\n",
    "quantiles = pd.qcut(adult_df_new['age'], q=4, precision = 0)\n",
    "s0 = sns.countplot(quantiles, hue = adult_df_new[\"income_>50K\"], ax = ax[0][0])\n",
    "s0.set_xlabel(None)\n",
    "s0.set_title(\"Age quantiles by income class\",fontsize=15)\n",
    "\n",
    "\n",
    "quantiles = pd.qcut(adult_df_new['education-num'], q=4, precision = 0)\n",
    "s1 = sns.countplot(quantiles, hue = adult_df_new[\"income_>50K\"], ax = ax[0][1])\n",
    "s1.set_xlabel(None)\n",
    "s1.set_title(\"Education-num quantiles by income class\",fontsize=15)\n",
    "\n",
    "\n",
    "quantiles = pd.qcut(adult_df_new['hours-per-week'], q= 2, precision = 0)\n",
    "s2 = sns.countplot(quantiles, hue = adult_df_new[\"income_>50K\"], ax = ax[1][0])\n",
    "s2.set_xlabel(None)\n",
    "s2.set_title(\"Hours-per-week quantiles by income class\",fontsize=15)\n",
    "\n",
    "\n",
    "#s3 = sns.countplot(adult_df_new['marital-status_Married'], hue = adult_df_new[\"income_>50K\"], ax = ax[1][1])\n",
    "#s3.set_xlabel(None)\n",
    "#s3.set_xticklabels([\"Never / Not Married\", \"Married\"])\n",
    "#s3.set_title(\"Marital-status by income class\",fontsize=15);"
   ]
  },
  {
   "cell_type": "markdown",
   "id": "9201963b",
   "metadata": {},
   "source": [
    "#### Inference:\n",
    "\n",
    "Lower ages have a low proportion of high income class, the proportion of high income increases with age and decreases a bit later\n",
    "The proportion of high-income class increases with education number\n",
    "Proportion is high income is higher for people who work more hours\n",
    "Married people have a higher proportion of high-income class\n",
    "\n",
    "#### Other important features"
   ]
  },
  {
   "cell_type": "code",
   "execution_count": 39,
   "id": "a3315f57",
   "metadata": {},
   "outputs": [
    {
     "name": "stderr",
     "output_type": "stream",
     "text": [
      "C:\\Users\\User\\anaconda3\\lib\\site-packages\\seaborn\\_decorators.py:36: FutureWarning: Pass the following variable as a keyword arg: x. From version 0.12, the only valid positional argument will be `data`, and passing other arguments without an explicit keyword will result in an error or misinterpretation.\n",
      "  warnings.warn(\n",
      "C:\\Users\\User\\anaconda3\\lib\\site-packages\\seaborn\\_decorators.py:36: FutureWarning: Pass the following variable as a keyword arg: x. From version 0.12, the only valid positional argument will be `data`, and passing other arguments without an explicit keyword will result in an error or misinterpretation.\n",
      "  warnings.warn(\n",
      "C:\\Users\\User\\anaconda3\\lib\\site-packages\\seaborn\\_decorators.py:36: FutureWarning: Pass the following variable as a keyword arg: x. From version 0.12, the only valid positional argument will be `data`, and passing other arguments without an explicit keyword will result in an error or misinterpretation.\n",
      "  warnings.warn(\n",
      "C:\\Users\\User\\anaconda3\\lib\\site-packages\\seaborn\\_decorators.py:36: FutureWarning: Pass the following variable as a keyword arg: x. From version 0.12, the only valid positional argument will be `data`, and passing other arguments without an explicit keyword will result in an error or misinterpretation.\n",
      "  warnings.warn(\n"
     ]
    },
    {
     "data": {
      "image/png": "[encoded data removed]",
      "text/plain": [
       "<Figure size 1440x864 with 4 Axes>"
      ]
     },
     "metadata": {
      "needs_background": "light"
     },
     "output_type": "display_data"
    }
   ],
   "source": [
    "# Removing irrelevant features amongst occupation\n",
    "adult_df.loc[~((adult_df[\"occupation\"] == \"Adm-clerical\") | (adult_df[\"occupation\"] == \"Craft-repair\") | \n",
    "                      (adult_df[\"occupation\"] == \"Exec-managerial\") | (adult_df[\"occupation\"] == \"Prof-specialty\")|\n",
    "                      (adult_df[\"occupation\"] == \"Sales\")),\"occupation\"] = \"Other\"\n",
    "fig, ax = plt.subplots(2,2, figsize=(20,12))\n",
    "s0 = sns.countplot(adult_df_new[\"sex_Male\"], hue = adult_df_new[\"income_>50K\"], ax = ax[0][0])\n",
    "s0.set_xlabel(None)\n",
    "s0.set_xticklabels([\"Female\", \"Male\"])\n",
    "s0.set_title(\"Sex by income class\",fontsize=15)\n",
    "\n",
    "\n",
    "s1 = sns.countplot(adult_df['workingclass'], hue = adult_df_new[\"income_>50K\"], ax = ax[0][1])\n",
    "s1.set_xlabel(None)\n",
    "s1.set_title(\"Workingclass by income class\",fontsize=15)\n",
    "\n",
    "\n",
    "s2 = sns.countplot(adult_df[\"occupation\"],  hue = adult_df_new[\"income_>50K\"], ax = ax[1][0])\n",
    "s2.set_xlabel(None)\n",
    "s2.set_title(\"Occupation by income class\",fontsize=15)\n",
    "\n",
    "\n",
    "s3 = sns.countplot(adult_df_new[\"race_White\"], hue = adult_df_new[\"income_>50K\"], ax = ax[1][1])\n",
    "s3.set_xlabel(None)\n",
    "s3.set_xticklabels([\"Not White\", \"White\"])\n",
    "s3.set_title(\"Race by income class\",fontsize=15);"
   ]
  },
  {
   "cell_type": "code",
   "execution_count": 40,
   "id": "184d7f81",
   "metadata": {},
   "outputs": [
    {
     "name": "stderr",
     "output_type": "stream",
     "text": [
      "C:\\Users\\User\\anaconda3\\lib\\site-packages\\seaborn\\_decorators.py:36: FutureWarning: Pass the following variable as a keyword arg: x. From version 0.12, the only valid positional argument will be `data`, and passing other arguments without an explicit keyword will result in an error or misinterpretation.\n",
      "  warnings.warn(\n",
      "C:\\Users\\User\\anaconda3\\lib\\site-packages\\seaborn\\_decorators.py:36: FutureWarning: Pass the following variable as a keyword arg: x. From version 0.12, the only valid positional argument will be `data`, and passing other arguments without an explicit keyword will result in an error or misinterpretation.\n",
      "  warnings.warn(\n"
     ]
    },
    {
     "data": {
      "image/png": "[encoded data removed]",
      "text/plain": [
       "<Figure size 864x288 with 2 Axes>"
      ]
     },
     "metadata": {
      "needs_background": "light"
     },
     "output_type": "display_data"
    }
   ],
   "source": [
    "fig, ax = plt.subplots(1,2, figsize = (12,4));\n",
    "\n",
    "s0 = sns.countplot(adult_df_new[\"capital-net_>0\"], hue = adult_df_new[\"income_>50K\"], ax = ax[0])\n",
    "s0.set_xlabel(None)\n",
    "s0.set_xticklabels([\"Net capital <= 0\", \"Net capital gain\"])\n",
    "s0.set_title(\"Net capital by income class\",fontsize=15)\n",
    "\n",
    "s1 = sns.countplot(adult_df_new[\"native-country_United-States\"], hue = adult_df_new[\"income_>50K\"], ax = ax[1])\n",
    "s1.set_xlabel(None)\n",
    "s1.set_xticklabels([\"Other\", \"US\"])\n",
    "s1.set_title(\"Native-country by income class\",fontsize=15);"
   ]
  },
  {
   "cell_type": "markdown",
   "id": "b5ecb850",
   "metadata": {},
   "source": [
    "#### Inference:\n",
    "\n",
    "1. Males have a higher proportion of the high-income class\n",
    "2. Self-emp people have a very high proportion of high-income class while Govt and Private have high proportions while other sections have low proportions of high-income class\n",
    "3. Prof-speciality, exec-managerial have a higher proportion of the high-income class\n",
    "4. Whites have a bit higher proportion of the high-income class\n",
    "5. Net capital gain has a higher proportion of high-income class people\n",
    "6. Native country US have a bit higher proportion of the high-income class\n",
    "\n",
    "### Finding out the potential investors\n",
    "We try to find out the profiles of potential investors who have had a positive capital-gain\n",
    "\n",
    "Steps:\n",
    "\n",
    "1. Divide the population into 2 groups: positive net-capital and others\n",
    "2. Compare the features of both the groups to see which features are distinctively different"
   ]
  },
  {
   "cell_type": "code",
   "execution_count": 41,
   "id": "389a39aa",
   "metadata": {},
   "outputs": [],
   "source": [
    "#We divide the population into 2, capital_gp = population with net-capital gain and capita_op = other population\n",
    "capital_gp = adult_df_new.loc[adult_df_new[\"capital-net_>0\"] > 0,]\n",
    "capital_op = adult_df_new.loc[adult_df_new[\"capital-net_>0\"] == 0,]"
   ]
  },
  {
   "cell_type": "code",
   "execution_count": 42,
   "id": "3c19c9b9",
   "metadata": {},
   "outputs": [
    {
     "data": {
      "text/html": [
       "<div>\n",
       "<style scoped>\n",
       "    .dataframe tbody tr th:only-of-type {\n",
       "        vertical-align: middle;\n",
       "    }\n",
       "\n",
       "    .dataframe tbody tr th {\n",
       "        vertical-align: top;\n",
       "    }\n",
       "\n",
       "    .dataframe thead th {\n",
       "        text-align: right;\n",
       "    }\n",
       "</style>\n",
       "<table border=\"1\" class=\"dataframe\">\n",
       "  <thead>\n",
       "    <tr style=\"text-align: right;\">\n",
       "      <th></th>\n",
       "      <th>age</th>\n",
       "      <th>education-num</th>\n",
       "      <th>hours-per-week</th>\n",
       "      <th>capital-net_&gt;0</th>\n",
       "      <th>workingclass_Govt</th>\n",
       "      <th>workingclass_Private</th>\n",
       "      <th>workingclass_Self-emp</th>\n",
       "      <th>marital-status_Married-civ-spouse</th>\n",
       "      <th>marital-status_Never-married</th>\n",
       "      <th>occupation_Craft-repair</th>\n",
       "      <th>occupation_Exec-managerial</th>\n",
       "      <th>occupation_Other-service</th>\n",
       "      <th>occupation_Prof-specialty</th>\n",
       "      <th>occupation_Sales</th>\n",
       "      <th>race_White</th>\n",
       "      <th>sex_Male</th>\n",
       "      <th>native-country_United-States</th>\n",
       "      <th>income_&gt;50K</th>\n",
       "    </tr>\n",
       "  </thead>\n",
       "  <tbody>\n",
       "    <tr>\n",
       "      <th>count</th>\n",
       "      <td>2538.000000</td>\n",
       "      <td>2538.000000</td>\n",
       "      <td>2538.000000</td>\n",
       "      <td>2538.0</td>\n",
       "      <td>2538.000000</td>\n",
       "      <td>2538.000000</td>\n",
       "      <td>2538.000000</td>\n",
       "      <td>2538.000000</td>\n",
       "      <td>2538.000000</td>\n",
       "      <td>2538.000000</td>\n",
       "      <td>2538.000000</td>\n",
       "      <td>2538.000000</td>\n",
       "      <td>2538.00000</td>\n",
       "      <td>2538.000000</td>\n",
       "      <td>2538.000000</td>\n",
       "      <td>2538.000000</td>\n",
       "      <td>2538.000000</td>\n",
       "      <td>2538.000000</td>\n",
       "    </tr>\n",
       "    <tr>\n",
       "      <th>mean</th>\n",
       "      <td>43.506698</td>\n",
       "      <td>11.105595</td>\n",
       "      <td>44.009062</td>\n",
       "      <td>1.0</td>\n",
       "      <td>0.151300</td>\n",
       "      <td>0.671001</td>\n",
       "      <td>0.176911</td>\n",
       "      <td>0.673365</td>\n",
       "      <td>0.167849</td>\n",
       "      <td>0.120567</td>\n",
       "      <td>0.212372</td>\n",
       "      <td>0.038613</td>\n",
       "      <td>0.21316</td>\n",
       "      <td>0.124507</td>\n",
       "      <td>0.892435</td>\n",
       "      <td>0.778960</td>\n",
       "      <td>0.929472</td>\n",
       "      <td>0.628448</td>\n",
       "    </tr>\n",
       "    <tr>\n",
       "      <th>std</th>\n",
       "      <td>12.715070</td>\n",
       "      <td>2.624413</td>\n",
       "      <td>11.672086</td>\n",
       "      <td>0.0</td>\n",
       "      <td>0.358412</td>\n",
       "      <td>0.469942</td>\n",
       "      <td>0.381669</td>\n",
       "      <td>0.469075</td>\n",
       "      <td>0.373806</td>\n",
       "      <td>0.325688</td>\n",
       "      <td>0.409067</td>\n",
       "      <td>0.192709</td>\n",
       "      <td>0.40962</td>\n",
       "      <td>0.330225</td>\n",
       "      <td>0.309891</td>\n",
       "      <td>0.415029</td>\n",
       "      <td>0.256085</td>\n",
       "      <td>0.483315</td>\n",
       "    </tr>\n",
       "    <tr>\n",
       "      <th>min</th>\n",
       "      <td>17.000000</td>\n",
       "      <td>1.000000</td>\n",
       "      <td>2.000000</td>\n",
       "      <td>1.0</td>\n",
       "      <td>0.000000</td>\n",
       "      <td>0.000000</td>\n",
       "      <td>0.000000</td>\n",
       "      <td>0.000000</td>\n",
       "      <td>0.000000</td>\n",
       "      <td>0.000000</td>\n",
       "      <td>0.000000</td>\n",
       "      <td>0.000000</td>\n",
       "      <td>0.00000</td>\n",
       "      <td>0.000000</td>\n",
       "      <td>0.000000</td>\n",
       "      <td>0.000000</td>\n",
       "      <td>0.000000</td>\n",
       "      <td>0.000000</td>\n",
       "    </tr>\n",
       "    <tr>\n",
       "      <th>25%</th>\n",
       "      <td>35.000000</td>\n",
       "      <td>9.000000</td>\n",
       "      <td>40.000000</td>\n",
       "      <td>1.0</td>\n",
       "      <td>0.000000</td>\n",
       "      <td>0.000000</td>\n",
       "      <td>0.000000</td>\n",
       "      <td>0.000000</td>\n",
       "      <td>0.000000</td>\n",
       "      <td>0.000000</td>\n",
       "      <td>0.000000</td>\n",
       "      <td>0.000000</td>\n",
       "      <td>0.00000</td>\n",
       "      <td>0.000000</td>\n",
       "      <td>1.000000</td>\n",
       "      <td>1.000000</td>\n",
       "      <td>1.000000</td>\n",
       "      <td>0.000000</td>\n",
       "    </tr>\n",
       "    <tr>\n",
       "      <th>50%</th>\n",
       "      <td>42.000000</td>\n",
       "      <td>11.000000</td>\n",
       "      <td>40.000000</td>\n",
       "      <td>1.0</td>\n",
       "      <td>0.000000</td>\n",
       "      <td>1.000000</td>\n",
       "      <td>0.000000</td>\n",
       "      <td>1.000000</td>\n",
       "      <td>0.000000</td>\n",
       "      <td>0.000000</td>\n",
       "      <td>0.000000</td>\n",
       "      <td>0.000000</td>\n",
       "      <td>0.00000</td>\n",
       "      <td>0.000000</td>\n",
       "      <td>1.000000</td>\n",
       "      <td>1.000000</td>\n",
       "      <td>1.000000</td>\n",
       "      <td>1.000000</td>\n",
       "    </tr>\n",
       "    <tr>\n",
       "      <th>75%</th>\n",
       "      <td>51.000000</td>\n",
       "      <td>13.000000</td>\n",
       "      <td>50.000000</td>\n",
       "      <td>1.0</td>\n",
       "      <td>0.000000</td>\n",
       "      <td>1.000000</td>\n",
       "      <td>0.000000</td>\n",
       "      <td>1.000000</td>\n",
       "      <td>0.000000</td>\n",
       "      <td>0.000000</td>\n",
       "      <td>0.000000</td>\n",
       "      <td>0.000000</td>\n",
       "      <td>0.00000</td>\n",
       "      <td>0.000000</td>\n",
       "      <td>1.000000</td>\n",
       "      <td>1.000000</td>\n",
       "      <td>1.000000</td>\n",
       "      <td>1.000000</td>\n",
       "    </tr>\n",
       "    <tr>\n",
       "      <th>max</th>\n",
       "      <td>90.000000</td>\n",
       "      <td>16.000000</td>\n",
       "      <td>99.000000</td>\n",
       "      <td>1.0</td>\n",
       "      <td>1.000000</td>\n",
       "      <td>1.000000</td>\n",
       "      <td>1.000000</td>\n",
       "      <td>1.000000</td>\n",
       "      <td>1.000000</td>\n",
       "      <td>1.000000</td>\n",
       "      <td>1.000000</td>\n",
       "      <td>1.000000</td>\n",
       "      <td>1.00000</td>\n",
       "      <td>1.000000</td>\n",
       "      <td>1.000000</td>\n",
       "      <td>1.000000</td>\n",
       "      <td>1.000000</td>\n",
       "      <td>1.000000</td>\n",
       "    </tr>\n",
       "  </tbody>\n",
       "</table>\n",
       "</div>"
      ],
      "text/plain": [
       "               age  education-num  hours-per-week  capital-net_>0  \\\n",
       "count  2538.000000    2538.000000     2538.000000          2538.0   \n",
       "mean     43.506698      11.105595       44.009062             1.0   \n",
       "std      12.715070       2.624413       11.672086             0.0   \n",
       "min      17.000000       1.000000        2.000000             1.0   \n",
       "25%      35.000000       9.000000       40.000000             1.0   \n",
       "50%      42.000000      11.000000       40.000000             1.0   \n",
       "75%      51.000000      13.000000       50.000000             1.0   \n",
       "max      90.000000      16.000000       99.000000             1.0   \n",
       "\n",
       "       workingclass_Govt  workingclass_Private  workingclass_Self-emp  \\\n",
       "count        2538.000000           2538.000000            2538.000000   \n",
       "mean            0.151300              0.671001               0.176911   \n",
       "std             0.358412              0.469942               0.381669   \n",
       "min             0.000000              0.000000               0.000000   \n",
       "25%             0.000000              0.000000               0.000000   \n",
       "50%             0.000000              1.000000               0.000000   \n",
       "75%             0.000000              1.000000               0.000000   \n",
       "max             1.000000              1.000000               1.000000   \n",
       "\n",
       "       marital-status_Married-civ-spouse  marital-status_Never-married  \\\n",
       "count                        2538.000000                   2538.000000   \n",
       "mean                            0.673365                      0.167849   \n",
       "std                             0.469075                      0.373806   \n",
       "min                             0.000000                      0.000000   \n",
       "25%                             0.000000                      0.000000   \n",
       "50%                             1.000000                      0.000000   \n",
       "75%                             1.000000                      0.000000   \n",
       "max                             1.000000                      1.000000   \n",
       "\n",
       "       occupation_Craft-repair  occupation_Exec-managerial  \\\n",
       "count              2538.000000                 2538.000000   \n",
       "mean                  0.120567                    0.212372   \n",
       "std                   0.325688                    0.409067   \n",
       "min                   0.000000                    0.000000   \n",
       "25%                   0.000000                    0.000000   \n",
       "50%                   0.000000                    0.000000   \n",
       "75%                   0.000000                    0.000000   \n",
       "max                   1.000000                    1.000000   \n",
       "\n",
       "       occupation_Other-service  occupation_Prof-specialty  occupation_Sales  \\\n",
       "count               2538.000000                 2538.00000       2538.000000   \n",
       "mean                   0.038613                    0.21316          0.124507   \n",
       "std                    0.192709                    0.40962          0.330225   \n",
       "min                    0.000000                    0.00000          0.000000   \n",
       "25%                    0.000000                    0.00000          0.000000   \n",
       "50%                    0.000000                    0.00000          0.000000   \n",
       "75%                    0.000000                    0.00000          0.000000   \n",
       "max                    1.000000                    1.00000          1.000000   \n",
       "\n",
       "        race_White     sex_Male  native-country_United-States  income_>50K  \n",
       "count  2538.000000  2538.000000                   2538.000000  2538.000000  \n",
       "mean      0.892435     0.778960                      0.929472     0.628448  \n",
       "std       0.309891     0.415029                      0.256085     0.483315  \n",
       "min       0.000000     0.000000                      0.000000     0.000000  \n",
       "25%       1.000000     1.000000                      1.000000     0.000000  \n",
       "50%       1.000000     1.000000                      1.000000     1.000000  \n",
       "75%       1.000000     1.000000                      1.000000     1.000000  \n",
       "max       1.000000     1.000000                      1.000000     1.000000  "
      ]
     },
     "execution_count": 42,
     "metadata": {},
     "output_type": "execute_result"
    }
   ],
   "source": [
    "capital_gp.describe()"
   ]
  },
  {
   "cell_type": "code",
   "execution_count": 43,
   "id": "871e1192",
   "metadata": {},
   "outputs": [
    {
     "data": {
      "text/html": [
       "<div>\n",
       "<style scoped>\n",
       "    .dataframe tbody tr th:only-of-type {\n",
       "        vertical-align: middle;\n",
       "    }\n",
       "\n",
       "    .dataframe tbody tr th {\n",
       "        vertical-align: top;\n",
       "    }\n",
       "\n",
       "    .dataframe thead th {\n",
       "        text-align: right;\n",
       "    }\n",
       "</style>\n",
       "<table border=\"1\" class=\"dataframe\">\n",
       "  <thead>\n",
       "    <tr style=\"text-align: right;\">\n",
       "      <th></th>\n",
       "      <th>age</th>\n",
       "      <th>education-num</th>\n",
       "      <th>hours-per-week</th>\n",
       "      <th>capital-net_&gt;0</th>\n",
       "      <th>workingclass_Govt</th>\n",
       "      <th>workingclass_Private</th>\n",
       "      <th>workingclass_Self-emp</th>\n",
       "      <th>marital-status_Married-civ-spouse</th>\n",
       "      <th>marital-status_Never-married</th>\n",
       "      <th>occupation_Craft-repair</th>\n",
       "      <th>occupation_Exec-managerial</th>\n",
       "      <th>occupation_Other-service</th>\n",
       "      <th>occupation_Prof-specialty</th>\n",
       "      <th>occupation_Sales</th>\n",
       "      <th>race_White</th>\n",
       "      <th>sex_Male</th>\n",
       "      <th>native-country_United-States</th>\n",
       "      <th>income_&gt;50K</th>\n",
       "    </tr>\n",
       "  </thead>\n",
       "  <tbody>\n",
       "    <tr>\n",
       "      <th>count</th>\n",
       "      <td>27624.000000</td>\n",
       "      <td>27624.000000</td>\n",
       "      <td>27624.000000</td>\n",
       "      <td>27624.0</td>\n",
       "      <td>27624.000000</td>\n",
       "      <td>27624.000000</td>\n",
       "      <td>27624.000000</td>\n",
       "      <td>27624.000000</td>\n",
       "      <td>27624.000000</td>\n",
       "      <td>27624.000000</td>\n",
       "      <td>27624.000000</td>\n",
       "      <td>27624.000000</td>\n",
       "      <td>27624.000000</td>\n",
       "      <td>27624.000000</td>\n",
       "      <td>27624.000000</td>\n",
       "      <td>27624.000000</td>\n",
       "      <td>27624.000000</td>\n",
       "      <td>27624.000000</td>\n",
       "    </tr>\n",
       "    <tr>\n",
       "      <th>mean</th>\n",
       "      <td>37.972198</td>\n",
       "      <td>10.030879</td>\n",
       "      <td>40.648458</td>\n",
       "      <td>0.0</td>\n",
       "      <td>0.141363</td>\n",
       "      <td>0.745113</td>\n",
       "      <td>0.113090</td>\n",
       "      <td>0.447292</td>\n",
       "      <td>0.336664</td>\n",
       "      <td>0.134810</td>\n",
       "      <td>0.125000</td>\n",
       "      <td>0.112728</td>\n",
       "      <td>0.126593</td>\n",
       "      <td>0.118303</td>\n",
       "      <td>0.856791</td>\n",
       "      <td>0.666196</td>\n",
       "      <td>0.910259</td>\n",
       "      <td>0.214053</td>\n",
       "    </tr>\n",
       "    <tr>\n",
       "      <th>std</th>\n",
       "      <td>13.074567</td>\n",
       "      <td>2.523916</td>\n",
       "      <td>11.968447</td>\n",
       "      <td>0.0</td>\n",
       "      <td>0.348401</td>\n",
       "      <td>0.435806</td>\n",
       "      <td>0.316709</td>\n",
       "      <td>0.497223</td>\n",
       "      <td>0.472577</td>\n",
       "      <td>0.341527</td>\n",
       "      <td>0.330725</td>\n",
       "      <td>0.316266</td>\n",
       "      <td>0.332522</td>\n",
       "      <td>0.322972</td>\n",
       "      <td>0.350292</td>\n",
       "      <td>0.471579</td>\n",
       "      <td>0.285815</td>\n",
       "      <td>0.410171</td>\n",
       "    </tr>\n",
       "    <tr>\n",
       "      <th>min</th>\n",
       "      <td>17.000000</td>\n",
       "      <td>1.000000</td>\n",
       "      <td>1.000000</td>\n",
       "      <td>0.0</td>\n",
       "      <td>0.000000</td>\n",
       "      <td>0.000000</td>\n",
       "      <td>0.000000</td>\n",
       "      <td>0.000000</td>\n",
       "      <td>0.000000</td>\n",
       "      <td>0.000000</td>\n",
       "      <td>0.000000</td>\n",
       "      <td>0.000000</td>\n",
       "      <td>0.000000</td>\n",
       "      <td>0.000000</td>\n",
       "      <td>0.000000</td>\n",
       "      <td>0.000000</td>\n",
       "      <td>0.000000</td>\n",
       "      <td>0.000000</td>\n",
       "    </tr>\n",
       "    <tr>\n",
       "      <th>25%</th>\n",
       "      <td>27.000000</td>\n",
       "      <td>9.000000</td>\n",
       "      <td>40.000000</td>\n",
       "      <td>0.0</td>\n",
       "      <td>0.000000</td>\n",
       "      <td>0.000000</td>\n",
       "      <td>0.000000</td>\n",
       "      <td>0.000000</td>\n",
       "      <td>0.000000</td>\n",
       "      <td>0.000000</td>\n",
       "      <td>0.000000</td>\n",
       "      <td>0.000000</td>\n",
       "      <td>0.000000</td>\n",
       "      <td>0.000000</td>\n",
       "      <td>1.000000</td>\n",
       "      <td>0.000000</td>\n",
       "      <td>1.000000</td>\n",
       "      <td>0.000000</td>\n",
       "    </tr>\n",
       "    <tr>\n",
       "      <th>50%</th>\n",
       "      <td>37.000000</td>\n",
       "      <td>10.000000</td>\n",
       "      <td>40.000000</td>\n",
       "      <td>0.0</td>\n",
       "      <td>0.000000</td>\n",
       "      <td>1.000000</td>\n",
       "      <td>0.000000</td>\n",
       "      <td>0.000000</td>\n",
       "      <td>0.000000</td>\n",
       "      <td>0.000000</td>\n",
       "      <td>0.000000</td>\n",
       "      <td>0.000000</td>\n",
       "      <td>0.000000</td>\n",
       "      <td>0.000000</td>\n",
       "      <td>1.000000</td>\n",
       "      <td>1.000000</td>\n",
       "      <td>1.000000</td>\n",
       "      <td>0.000000</td>\n",
       "    </tr>\n",
       "    <tr>\n",
       "      <th>75%</th>\n",
       "      <td>47.000000</td>\n",
       "      <td>12.000000</td>\n",
       "      <td>45.000000</td>\n",
       "      <td>0.0</td>\n",
       "      <td>0.000000</td>\n",
       "      <td>1.000000</td>\n",
       "      <td>0.000000</td>\n",
       "      <td>1.000000</td>\n",
       "      <td>1.000000</td>\n",
       "      <td>0.000000</td>\n",
       "      <td>0.000000</td>\n",
       "      <td>0.000000</td>\n",
       "      <td>0.000000</td>\n",
       "      <td>0.000000</td>\n",
       "      <td>1.000000</td>\n",
       "      <td>1.000000</td>\n",
       "      <td>1.000000</td>\n",
       "      <td>0.000000</td>\n",
       "    </tr>\n",
       "    <tr>\n",
       "      <th>max</th>\n",
       "      <td>90.000000</td>\n",
       "      <td>16.000000</td>\n",
       "      <td>99.000000</td>\n",
       "      <td>0.0</td>\n",
       "      <td>1.000000</td>\n",
       "      <td>1.000000</td>\n",
       "      <td>1.000000</td>\n",
       "      <td>1.000000</td>\n",
       "      <td>1.000000</td>\n",
       "      <td>1.000000</td>\n",
       "      <td>1.000000</td>\n",
       "      <td>1.000000</td>\n",
       "      <td>1.000000</td>\n",
       "      <td>1.000000</td>\n",
       "      <td>1.000000</td>\n",
       "      <td>1.000000</td>\n",
       "      <td>1.000000</td>\n",
       "      <td>1.000000</td>\n",
       "    </tr>\n",
       "  </tbody>\n",
       "</table>\n",
       "</div>"
      ],
      "text/plain": [
       "                age  education-num  hours-per-week  capital-net_>0  \\\n",
       "count  27624.000000   27624.000000    27624.000000         27624.0   \n",
       "mean      37.972198      10.030879       40.648458             0.0   \n",
       "std       13.074567       2.523916       11.968447             0.0   \n",
       "min       17.000000       1.000000        1.000000             0.0   \n",
       "25%       27.000000       9.000000       40.000000             0.0   \n",
       "50%       37.000000      10.000000       40.000000             0.0   \n",
       "75%       47.000000      12.000000       45.000000             0.0   \n",
       "max       90.000000      16.000000       99.000000             0.0   \n",
       "\n",
       "       workingclass_Govt  workingclass_Private  workingclass_Self-emp  \\\n",
       "count       27624.000000          27624.000000           27624.000000   \n",
       "mean            0.141363              0.745113               0.113090   \n",
       "std             0.348401              0.435806               0.316709   \n",
       "min             0.000000              0.000000               0.000000   \n",
       "25%             0.000000              0.000000               0.000000   \n",
       "50%             0.000000              1.000000               0.000000   \n",
       "75%             0.000000              1.000000               0.000000   \n",
       "max             1.000000              1.000000               1.000000   \n",
       "\n",
       "       marital-status_Married-civ-spouse  marital-status_Never-married  \\\n",
       "count                       27624.000000                  27624.000000   \n",
       "mean                            0.447292                      0.336664   \n",
       "std                             0.497223                      0.472577   \n",
       "min                             0.000000                      0.000000   \n",
       "25%                             0.000000                      0.000000   \n",
       "50%                             0.000000                      0.000000   \n",
       "75%                             1.000000                      1.000000   \n",
       "max                             1.000000                      1.000000   \n",
       "\n",
       "       occupation_Craft-repair  occupation_Exec-managerial  \\\n",
       "count             27624.000000                27624.000000   \n",
       "mean                  0.134810                    0.125000   \n",
       "std                   0.341527                    0.330725   \n",
       "min                   0.000000                    0.000000   \n",
       "25%                   0.000000                    0.000000   \n",
       "50%                   0.000000                    0.000000   \n",
       "75%                   0.000000                    0.000000   \n",
       "max                   1.000000                    1.000000   \n",
       "\n",
       "       occupation_Other-service  occupation_Prof-specialty  occupation_Sales  \\\n",
       "count              27624.000000               27624.000000      27624.000000   \n",
       "mean                   0.112728                   0.126593          0.118303   \n",
       "std                    0.316266                   0.332522          0.322972   \n",
       "min                    0.000000                   0.000000          0.000000   \n",
       "25%                    0.000000                   0.000000          0.000000   \n",
       "50%                    0.000000                   0.000000          0.000000   \n",
       "75%                    0.000000                   0.000000          0.000000   \n",
       "max                    1.000000                   1.000000          1.000000   \n",
       "\n",
       "         race_White      sex_Male  native-country_United-States   income_>50K  \n",
       "count  27624.000000  27624.000000                  27624.000000  27624.000000  \n",
       "mean       0.856791      0.666196                      0.910259      0.214053  \n",
       "std        0.350292      0.471579                      0.285815      0.410171  \n",
       "min        0.000000      0.000000                      0.000000      0.000000  \n",
       "25%        1.000000      0.000000                      1.000000      0.000000  \n",
       "50%        1.000000      1.000000                      1.000000      0.000000  \n",
       "75%        1.000000      1.000000                      1.000000      0.000000  \n",
       "max        1.000000      1.000000                      1.000000      1.000000  "
      ]
     },
     "execution_count": 43,
     "metadata": {},
     "output_type": "execute_result"
    }
   ],
   "source": [
    "capital_op.describe()"
   ]
  },
  {
   "cell_type": "markdown",
   "id": "efa3fd72",
   "metadata": {},
   "source": [
    "Observation:\n",
    "We observe there is a lot of variation between the two groups based on the following columns:\n",
    "\n",
    "1. Marital status Married\n",
    "2. Occupation - Exec managerial\n",
    "3. Occupation - Prof speciality\n",
    "4. Income > 50k"
   ]
  },
  {
   "cell_type": "code",
   "execution_count": 52,
   "id": "bd56968f",
   "metadata": {},
   "outputs": [
    {
     "data": {
      "image/png": "[encoded data removed]",
      "text/plain": [
       "<Figure size 1080x720 with 4 Axes>"
      ]
     },
     "metadata": {
      "needs_background": "light"
     },
     "output_type": "display_data"
    }
   ],
   "source": [
    "fig, ax = plt.subplots(2,2, figsize=(15,10))\n",
    "s0 = sns.pointplot(x = \"capital-net_>0\", y = \"income_>50K\",  data = adult_df_new, ax = ax[0][0])\n",
    "s0.set_xticklabels([\"net-capital <=0\", \"net-capital >0\"])\n",
    "s0.set_xlabel(None)\n",
    "s0.set_ylabel(None)\n",
    "s0.set_title(\"Proportion of income class by 2 categories\",fontsize=12)\n",
    "\n",
    "\n",
    "\n",
    "s2 = sns.pointplot(x = \"capital-net_>0\", y = \"occupation_Exec-managerial\",  data = adult_df_new, ax = ax[1][0])\n",
    "s2.set_xticklabels([\"net-capital <=0\", \"net-capital >0\"])\n",
    "s2.set_xlabel(None)\n",
    "s2.set_ylabel(None)\n",
    "s2.set_title(\"Proportion of executive managerial people by 2 categories\",fontsize=12)\n",
    "\n",
    "s3 = sns.pointplot(x = \"capital-net_>0\", y = \"occupation_Prof-specialty\",  data = adult_df_new, ax = ax[1][1])\n",
    "s3.set_xticklabels([\"net-capital <=0\", \"net-capital >0\"])\n",
    "s3.set_xlabel(None)\n",
    "s3.set_ylabel(None)\n",
    "s3.set_title(\"Proportion of prof speciality people by 2 categories\",fontsize=12);\n"
   ]
  },
  {
   "cell_type": "markdown",
   "id": "226d563e",
   "metadata": {},
   "source": [
    "#### Inference:\n",
    "\n",
    "We summarise the findings w.r.t. estimated successful investors group (i.e. people with postive net-capital)\n",
    "\n",
    "1. 63% this group belongs to high income-class compared to only 21% of the other population\n",
    "2. 68% of the group is married, compared to 45% of the other population\n",
    "3. 43% of the group work as executive managers or in specialty professions compared to 25% of the other population\n",
    "\n",
    "### Impact of each feature on high/low income class\n",
    "In this section we try to quantify the impact of each feature in determining high/low income class. Steps\n",
    "\n",
    "1. Fit a logistic regression model w.r.t. high income class\n",
    "2. Interpret coefficients of logistic regression in terms of odds-ratio of high income class w.r.t. low income class"
   ]
  },
  {
   "cell_type": "code",
   "execution_count": 53,
   "id": "eeea20c9",
   "metadata": {},
   "outputs": [],
   "source": [
    "X = adult_df_new.loc[:, features_selected] \n",
    "y = adult_df_new[\"income_>50K\" ]\n",
    "\n",
    "lr = LogisticRegression(penalty = \"l2\", C=1, max_iter = 1000)\n",
    "lr.fit(X, y);\n",
    "\n",
    "coeffs = lr.coef_\n",
    "\n",
    "impact_features = pd.Series(index = list(X.columns),data = coeffs[0])\n",
    "\n",
    "age_impact_10 = np.exp(impact_features[\"age\"]*10)\n",
    "edu_impact = np.exp(impact_features[\"education-num\"])\n",
    "hours_impact = np.exp(impact_features[\"hours-per-week\"]*5)\n",
    "#ms_impact = np.exp(impact_features[\"marital-status_Married\"])\n",
    "net_capital_impact = np.exp(impact_features[\"capital-net_>0\"])\n",
    "sex_impact = np.exp(impact_features[\"sex_Male\"])\n",
    "race_impact = np.exp(impact_features[\"race_White\"])"
   ]
  },
  {
   "cell_type": "markdown",
   "id": "1a482776",
   "metadata": {},
   "source": [
    "#### Inference:\n",
    "\n",
    "1. Age – Increase in age by 10 years increases the odds of high-income-class by 1.3 times\n",
    "2. Education – Unit increase in education years increases the odds of the high-income class by 1.36 times\n",
    "3. Hours per week –Increase in work hours per week by 5 years increases the odds of high income-class by 1.15 times\n",
    "4. Marital status – Married people have 7.5 times odds of high-income class\n",
    "5. Net capital – If net-capital is more than 0 it increases odds of the high-income class by 4.9 times\n",
    "6. Sex – Men make odds of high-income class increase by 1.36 times as compared to women\n",
    "7. Race – Whites increase the odds of high-income class increase by 1.17 times as compared to other races"
   ]
  },
  {
   "cell_type": "markdown",
   "id": "15face22",
   "metadata": {},
   "source": [
    "### Predictive Modeling\n",
    "In this section, we build models so as to predict whether a person belongs to high/low income class based on his/her attributes.\n",
    "\n",
    "\n",
    "Steps:\n",
    "\n",
    "1. Fit training data\n",
    "2. Tune hyperparameters to get a good cross-validation accuracy\n",
    "3. Compare different models in terms of accuracy and run-time\n",
    "4. Test the best models on the test set\n",
    "\n",
    "#### Building the model\n",
    "\n",
    "##### Null model\n",
    "\n",
    "Baseline model: This serves as a comparison for other models. We predict the larger class every time"
   ]
  },
  {
   "cell_type": "code",
   "execution_count": null,
   "id": "67fc1f56",
   "metadata": {},
   "outputs": [],
   "source": [
    "summary = pd.DataFrame(columns = [\"model\", \"accuracy\", \"time(s)\"])\n",
    "\n",
    "score_0 = round(np.mean(y==0),2)\n",
    "\n",
    "summary = summary.append({\"model\":\"Null\", \"accuracy\": score_0, \"time(s)\":0}, ignore_index=  True)"
   ]
  },
  {
   "cell_type": "markdown",
   "id": "218a9d5c",
   "metadata": {},
   "source": [
    "#### Decision Tree\n",
    "\n",
    "1. maximum depth = 10\n",
    "2. split criterion = gini coefficient\n",
    "3. complexity parameter = 0"
   ]
  },
  {
   "cell_type": "code",
   "execution_count": null,
   "id": "75c0c449",
   "metadata": {},
   "outputs": [],
   "source": [
    "kfoldCV = StratifiedKFold(n_splits=5, shuffle = True, random_state=0)\n",
    "tick = time.time()\n",
    "dt = DecisionTreeClassifier(max_depth = 10, random_state = 24)\n",
    "dt_scores = cross_val_score(dt, X, y, cv = kfoldCV)\n",
    "tock = time.time()\n",
    "summary = summary.append({\"model\":\"Decison Tree\", \"accuracy\": np.round(np.mean(dt_scores),2), \"time(s)\":round((tock - tick),2)}, ignore_index=  True)"
   ]
  },
  {
   "cell_type": "markdown",
   "id": "11ed84a5",
   "metadata": {},
   "source": [
    "#### Random Forest\n",
    "\n",
    "1. maximum depth = 10\n",
    "2. total estimators = 100\n",
    "3. split criterion = gini coefficient\n",
    "4. maximum features (in each tree) = sqrt(number of features)"
   ]
  },
  {
   "cell_type": "code",
   "execution_count": null,
   "id": "1c0f88b7",
   "metadata": {},
   "outputs": [],
   "source": [
    "tick = time.time()\n",
    "rf = RandomForestClassifier(n_estimators = 100, max_depth = 10, random_state = 24)\n",
    "rf_scores = cross_val_score(rf, X, y, cv = kfoldCV)\n",
    "tock = time.time()\n",
    "summary = summary.append({\"model\":\"Random Forest\", \"accuracy\": np.round(np.mean(rf_scores),2), \"time(s)\":round((tock - tick),2)}, ignore_index=  True)"
   ]
  },
  {
   "cell_type": "markdown",
   "id": "ba32fecd",
   "metadata": {},
   "source": [
    "#### AdaBoost\n",
    "\n",
    "1. base estimator = decision stump (decision tree max depth = 1)\n",
    "2. estimators = 50\n",
    "3. learning rate = 0.1"
   ]
  },
  {
   "cell_type": "code",
   "execution_count": null,
   "id": "c5b286d3",
   "metadata": {},
   "outputs": [],
   "source": [
    "tick = time.time()\n",
    "ada = AdaBoostClassifier(learning_rate = 0.1, random_state = 24)\n",
    "ada_scores = cross_val_score(ada, X, y, cv = kfoldCV)\n",
    "tock = time.time()\n",
    "summary = summary.append({\"model\":\"AdaBoost\", \"accuracy\": np.round(np.mean(ada_scores),2), \"time(s)\": round((tock - tick),2)}, ignore_index=  True)"
   ]
  },
  {
   "cell_type": "markdown",
   "id": "03469415",
   "metadata": {},
   "source": [
    "#### XGBoost\n",
    "1. booster = gradient boosted tree\n",
    "2. learning rate = 0.1\n",
    "3. maximum depth = 5\n",
    "4. regularization = lambda (l2), weight = 1"
   ]
  },
  {
   "cell_type": "code",
   "execution_count": null,
   "id": "37b7c42c",
   "metadata": {},
   "outputs": [],
   "source": [
    "tick = time.time()\n",
    "xgb = XGBClassifier(max_depth = 5, learning_rate=0.1)\n",
    "xgb_scores = cross_val_score(xgb, X, y, cv = 5)\n",
    "tock = time.time()\n",
    "\n",
    "summary = summary.append({\"model\":\"XGBoost\", \"accuracy\": np.round(np.mean(xgb_scores),2), \"time(s)\": round((tock - tick),2)}, ignore_index=  True)"
   ]
  },
  {
   "cell_type": "markdown",
   "id": "49cc739c",
   "metadata": {},
   "source": [
    "#### Classifiers which require feature scaling"
   ]
  },
  {
   "cell_type": "code",
   "execution_count": null,
   "id": "cef9e9a1",
   "metadata": {},
   "outputs": [],
   "source": [
    "scaler = MinMaxScaler()\n",
    "scaler.fit(X)\n",
    "X_scaled = scaler.transform(X)"
   ]
  },
  {
   "cell_type": "markdown",
   "id": "dacefa3f",
   "metadata": {},
   "source": [
    "#### Logistic Regression\n",
    "1. regularization = l2\n",
    "2. regularization weight (C) = 1"
   ]
  },
  {
   "cell_type": "code",
   "execution_count": null,
   "id": "cb0d5cbb",
   "metadata": {},
   "outputs": [],
   "source": [
    "tick = time.time()\n",
    "lr = LogisticRegression(penalty = \"l2\", max_iter=1000, solver = \"liblinear\")\n",
    "lr_scores = cross_val_score(lr, X_scaled, y, cv = 5)\n",
    "tock = time.time()\n",
    "summary = summary.append({\"model\":\"Logistic Regression\", \"accuracy\": np.round(np.mean(lr_scores),2), \"time(s)\": round((tock - tick),2)}, ignore_index=  True)"
   ]
  },
  {
   "cell_type": "markdown",
   "id": "abe95a54",
   "metadata": {},
   "source": [
    "#### SVM\n",
    "1. kernel = rbf\n",
    "C = 1\n",
    "2. gamma = 1/(number of features)"
   ]
  },
  {
   "cell_type": "code",
   "execution_count": null,
   "id": "2e91f707",
   "metadata": {},
   "outputs": [],
   "source": [
    "tick = time.time()\n",
    "svm = SVC(kernel = \"rbf\", C = 1, gamma = \"auto\")\n",
    "svm_scores = cross_val_score(svm, X_scaled, y, cv = 5)\n",
    "tock = time.time()\n",
    "summary = summary.append({\"model\":\"SVM\", \"accuracy\": np.round(np.mean(lr_scores),2), \"time(s)\": round((tock - tick),2)}, ignore_index=  True)"
   ]
  },
  {
   "cell_type": "markdown",
   "id": "aed1d480",
   "metadata": {},
   "source": [
    "### Testing on new data\n",
    "#### Importing the test data"
   ]
  },
  {
   "cell_type": "code",
   "execution_count": 75,
   "id": "6dcdb36c",
   "metadata": {},
   "outputs": [],
   "source": [
    "url=\"https://archive.ics.uci.edu/ml/machine-learning-databases/adult/adult.test\"\n",
    "content =requests.get(url).content\n",
    "columns = [\"age\", \"workingclass\", \"fnlwgt\", \"education\", \"education-num\", \"marital-status\", \"occupation\" , \"relationship\", \"race\", \"sex\", \"capital-gain\", \"capital-loss\", \"hours-per-week\", \"native-country\", \"income\"] \n",
    "adult_test=pd.read_csv(io.StringIO(content.decode('utf-8')), skiprows=1, header = None)"
   ]
  },
  {
   "cell_type": "code",
   "execution_count": 76,
   "id": "2315a798",
   "metadata": {},
   "outputs": [],
   "source": [
    "test_data_shape = adult_test.shape"
   ]
  },
  {
   "cell_type": "code",
   "execution_count": 77,
   "id": "49e65906",
   "metadata": {},
   "outputs": [],
   "source": [
    "adult_test.columns = columns\n",
    "#removing end blank spaces\n",
    "df_obj = adult_test.select_dtypes(['object'])\n",
    "adult_test[df_obj.columns] = df_obj.apply(lambda x: x.str.strip())\n",
    "adult_test.loc[adult_test[\"income\"] == \">50K.\", \"income\"] = \">50K\"\n",
    "adult_test.loc[adult_test[\"income\"] == \"<=50K.\", \"income\"] = \"<=50K\""
   ]
  },
  {
   "cell_type": "markdown",
   "id": "3eb04f7a",
   "metadata": {},
   "source": [
    "#### Handling null / missing values"
   ]
  },
  {
   "cell_type": "code",
   "execution_count": 78,
   "id": "7552692b",
   "metadata": {},
   "outputs": [],
   "source": [
    "adult_test.dropna(inplace = True)\n",
    "adult_test = adult_test.loc[adult_test[\"workingclass\"] !=\"?\"]\n",
    "adult_test = adult_test.loc[adult_test[\"occupation\"] !=\"?\"]\n",
    "adult_test = adult_test.loc[adult_test[\"native-country\"] !=\"?\"]"
   ]
  },
  {
   "cell_type": "markdown",
   "id": "da0dff5f",
   "metadata": {},
   "source": [
    "#### Encoding features like the training data"
   ]
  },
  {
   "cell_type": "code",
   "execution_count": 79,
   "id": "fe197f9d",
   "metadata": {},
   "outputs": [],
   "source": [
    "adult_test[\"capital-net_>0\"] = ((adult_test['capital-gain']- adult_test[\"capital-loss\"]) > 0)*1\n",
    "\n",
    "adult_test.loc[((adult_test[\"workingclass\"] == \"Federal-gov\")| (adult_test[\"workingclass\"] == \"Local-gov\")  |(adult_test[\"workingclass\"] == \"State-gov\")), \"workingclass\"] = \"Govt\"\n",
    "adult_test.loc[((adult_test[\"workingclass\"] == \"Self-emp-inc\")| (adult_test[\"workingclass\"] == \"Self-emp-not-inc\")), \"workingclass\"] = \"Self-emp\"\n",
    "adult_test.loc[((adult_test[\"workingclass\"] == \"Without-pay\")| (adult_test[\"workingclass\"] == \"Never-worked\")), \"workingclass\"]  = \"No-work-inc\"\n",
    "\n",
    "\n",
    "\n",
    "adult_test.loc[((adult_test[\"race\"] == \"Amer-Indian-Eskimo\") | (adult_test[\"race\"] == \"Asian-Pac-Islander\")),  \"race\"] = \"Other\"\n",
    "\n",
    "\n",
    "adult_test.loc[((adult_test[\"marital-status\"] == \"Married-civ-spouse\") | (adult_test[\"marital-status\"] == \"Married-spouse-absent\") | (adult_test[\"marital-status\"] == \"Married-AF-spouse\")) , \"marital-status\"] = \"Married\"\n",
    "adult_test.loc[((adult_test[\"marital-status\"] == \"Widowed\") | (adult_test[\"marital-status\"] == \"Divorced\") | (adult_test[\"marital-status\"] == \"Separated\")) , \"marital-status\"] = \"Not-Married\"\n",
    "\n",
    "\n",
    "adult_test.loc[((adult_test[\"occupation\"] == \"Other-service\") | (adult_test[\"occupation\"] == \"Armed-Forces\") | (adult_test[\"occupation\"] == \"Priv-house-serv\") | (adult_test[\"occupation\"] == \"Protective-serv\")),\"occupation\"] = \"Other\"\n",
    "\n",
    "\n",
    "adult_test.loc[((adult_test[\"native-country\"] != \"United-States\") & (adult_test[\"native-country\"] != \"Mexico\")),\"native-country\"] = \"Other\"\n",
    "\n",
    "adult_test.drop([\"capital-gain\", \"capital-loss\"], axis = 1, inplace =True)\n",
    "\n",
    "adult_test.drop(\"education\", axis = 1, inplace = True)\n",
    "\n",
    "\n",
    "adult_test.drop(\"fnlwgt\", axis = 1, inplace = True)\n",
    "\n",
    "adult_test.drop(\"relationship\", axis = 1, inplace = True)"
   ]
  },
  {
   "cell_type": "code",
   "execution_count": null,
   "id": "7ed79793",
   "metadata": {},
   "outputs": [],
   "source": [
    "adult_test_new = pd.get_dummies(adult_test)\n",
    "adult_test_new.drop(\"workingclass_No-work-inc\", axis = 1, inplace = True)\n",
    "#adult_test_new.drop(\"marital-status_Not-Married\", axis = 1, inplace = True)\n",
    "adult_test_new.drop(\"occupation_Other\", axis = 1, inplace = True)\n",
    "adult_test_new.drop(\"race_Other\", axis = 1, inplace = True)\n",
    "adult_test_new.drop(\"sex_Female\", axis = 1, inplace = True)\n",
    "adult_test_new.drop(\"native-country_Other\", axis = 1, inplace = True)\n",
    "adult_test_new.drop(\"income_<=50K\", axis = 1, inplace = True)\n",
    "X_test = adult_test_new.loc[:, features_selected]\n",
    "y_test = adult_test_new.loc[:, \"income_>50K\"]"
   ]
  },
  {
   "cell_type": "code",
   "execution_count": null,
   "id": "5048f641",
   "metadata": {},
   "outputs": [],
   "source": [
    "X_test = adult_test_new.loc[:, features_selected]\n",
    "y_test = adult_test_new.loc[:, \"income_>50K\"]\n",
    "\n",
    "# Testing the models\n",
    "summary_test = pd.DataFrame(columns = [\"model\", \"accuracy\", \"training time(s)\"], index = None)\n",
    "\n",
    "#Decision tree\n",
    "tick = time.time()\n",
    "dt.fit(X, y)\n",
    "tock = time.time()\n",
    "dt_score = dt.score(X_test,y_test)\n",
    "summary_test = summary_test.append({\"model\":\"Decision Tree\", \"accuracy\": round(dt_score,2), \"training time(s)\": round((tock - tick),2)}, ignore_index=  True)\n",
    "\n",
    "#Random Forest\n",
    "tick = time.time()\n",
    "rf.fit(X, y)\n",
    "tock = time.time()\n",
    "rf_score = rf.score(X_test,y_test)\n",
    "summary_test = summary_test.append({\"model\":\"Random Forest\", \"accuracy\": round(rf_score,2), \"training time(s)\": round((tock - tick),2)}, ignore_index=  True)"
   ]
  },
  {
   "cell_type": "code",
   "execution_count": null,
   "id": "248309a4",
   "metadata": {},
   "outputs": [],
   "source": [
    "# AdaBoost Classifier\n",
    "tick = time.time()\n",
    "ada.fit(X,y)\n",
    "tock = time.time()\n",
    "ada_score = ada.score(X_test, y_test)\n",
    "summary_test = summary_test.append({\"model\":\"AdaBoost\", \"accuracy\": round(ada_score,2), \"training time(s)\": round((tock - tick),2)}, ignore_index=  True)\n",
    "\n",
    "#XGBoost\n",
    "#Training on the training data\n",
    "tick = time.time()\n",
    "xgb.fit(X, y)\n",
    "tock = time.time()\n",
    "xgb_score = xgb.score(X_test, y_test)\n",
    "summary_test = summary_test.append({\"model\":\"XGBoost\", \"accuracy\": round(xgb_score,2), \"training time(s)\": round((tock - tick),2)}, ignore_index=  True)\n",
    "\n",
    "#Classifiers which require feature scaling\n",
    "\n",
    "X_test_scaled = scaler.transform(X_test)"
   ]
  },
  {
   "cell_type": "code",
   "execution_count": null,
   "id": "25216ce8",
   "metadata": {},
   "outputs": [],
   "source": [
    "Logistic Regression\n",
    "tick = time.time()\n",
    "lr.fit(X_scaled,y)\n",
    "tock = time.time()\n",
    "lr_score = lr.score(X_test_scaled, y_test)\n",
    "summary_test = summary_test.append({\"model\":\"Logistic Regression\", \"accuracy\": round(lr_score,2), \"training time(s)\": round((tock - tick),2)}, ignore_index=  True)\n",
    "SVM\n",
    "tick = time.time()\n",
    "svm.fit(X_scaled, y)\n",
    "tock = time.time()\n",
    "svm_score = svm.score(X_test_scaled, y_test)\n",
    "summary_test = summary_test.append({\"model\":\"SVM\", \"accuracy\": round(svm_score,2), \"training time(s)\": round((tock - tick),2)}, ignore_index=  True)"
   ]
  },
  {
   "cell_type": "markdown",
   "id": "de17a523",
   "metadata": {},
   "source": [
    "## Future Scope\n",
    "\n",
    "More Questions: Census data has a lot of scope to answer diverse questions based on different needs and purpose\n",
    "\n",
    "More Analysis: More analysis can be done by occupations, marital status or working-class to understand the data more\n",
    "\n",
    "Better Feature Engineering: Though a lot of work was done to engineer features, there lies a scope for betterment\n",
    "\n",
    "Improvements in the Predictive Models: Algorithms tried are fine-tuned using a combination of parameters. However, further \n",
    "improvement can be done using parameter selection algorithms like GridSearchCV which can give the best parameters from a wider range\n",
    "\n",
    "Statistical tests can be carried out for comparing factors affecting potential investors and other population\n",
    "\n",
    "Functional code: All the code can be written in a functional form which we can parametrize for reusability"
   ]
  },
  {
   "cell_type": "code",
   "execution_count": null,
   "id": "d7b9ea22",
   "metadata": {},
   "outputs": [],
   "source": []
  }
 ],
 "metadata": {
  "kernelspec": {
   "display_name": "Python 3 (ipykernel)",
   "language": "python",
   "name": "python3"
  },
  "language_info": {
   "codemirror_mode": {
    "name": "ipython",
    "version": 3
   },
   "file_extension": ".py",
   "mimetype": "text/x-python",
   "name": "python",
   "nbconvert_exporter": "python",
   "pygments_lexer": "ipython3",
   "version": "3.9.7"
  }
 },
 "nbformat": 4,
 "nbformat_minor": 5
}
